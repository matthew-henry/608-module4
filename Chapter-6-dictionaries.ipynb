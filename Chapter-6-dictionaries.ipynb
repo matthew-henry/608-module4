{
 "cells": [
  {
   "cell_type": "code",
   "execution_count": 3,
   "id": "24172761-a871-450c-9a72-8a644e6f5f26",
   "metadata": {},
   "outputs": [],
   "source": [
    "country_codes = {'Finland': 'fi', 'South Africa': 'za', 'Nepal':'np'}"
   ]
  },
  {
   "cell_type": "code",
   "execution_count": 4,
   "id": "d429f260-492e-4ecd-b698-0359fef8e135",
   "metadata": {},
   "outputs": [
    {
     "data": {
      "text/plain": [
       "{'Finland': 'fi', 'South Africa': 'za', 'Nepal': 'np'}"
      ]
     },
     "execution_count": 4,
     "metadata": {},
     "output_type": "execute_result"
    }
   ],
   "source": [
    "country_codes"
   ]
  },
  {
   "cell_type": "code",
   "execution_count": 6,
   "id": "9cacb35b-fd6b-44e4-8b59-6ba262eb423f",
   "metadata": {},
   "outputs": [
    {
     "name": "stdout",
     "output_type": "stream",
     "text": [
      "country_codes is not empty\n"
     ]
    }
   ],
   "source": [
    "if(country_codes):\n",
    "    print('country_codes is not empty')\n",
    "else:\n",
    "    print('country_codes is empty')"
   ]
  },
  {
   "cell_type": "code",
   "execution_count": 8,
   "id": "10d618ee-0e3c-401f-8aa8-b1a644499838",
   "metadata": {},
   "outputs": [],
   "source": [
    "states = {'VT' : 'Vermont', 'NH' : 'New Hampshire', 'MA': 'Massachusetts'}"
   ]
  },
  {
   "cell_type": "code",
   "execution_count": 9,
   "id": "f7089bef-62b4-4f06-8695-93a04bbe44fe",
   "metadata": {},
   "outputs": [
    {
     "data": {
      "text/plain": [
       "{'VT': 'Vermont', 'NH': 'New Hampshire', 'MA': 'Massachusetts'}"
      ]
     },
     "execution_count": 9,
     "metadata": {},
     "output_type": "execute_result"
    }
   ],
   "source": [
    "states"
   ]
  },
  {
   "cell_type": "code",
   "execution_count": 10,
   "id": "244b677a-5ca7-4d4e-994e-60ed8c3db21a",
   "metadata": {},
   "outputs": [],
   "source": [
    "days_per_month = {'January': 31, 'February' : 28, 'March': 31}"
   ]
  },
  {
   "cell_type": "code",
   "execution_count": 11,
   "id": "80791e81-43ca-458d-96b1-8a4dd8ea337a",
   "metadata": {},
   "outputs": [
    {
     "data": {
      "text/plain": [
       "{'January': 31, 'February': 28, 'March': 31}"
      ]
     },
     "execution_count": 11,
     "metadata": {},
     "output_type": "execute_result"
    }
   ],
   "source": [
    "days_per_month"
   ]
  },
  {
   "cell_type": "code",
   "execution_count": 12,
   "id": "4b6c7868-5675-4ddc-a861-6c0d6e46eb67",
   "metadata": {},
   "outputs": [
    {
     "name": "stdout",
     "output_type": "stream",
     "text": [
      "January has 31 days\n",
      "February has 28 days\n",
      "March has 31 days\n"
     ]
    }
   ],
   "source": [
    "for month, days in days_per_month.items():\n",
    "    print(f'{month} has {days} days')"
   ]
  },
  {
   "cell_type": "code",
   "execution_count": 13,
   "id": "0bcc40f9-7827-4fb9-8f03-c643ddd0dff6",
   "metadata": {},
   "outputs": [],
   "source": [
    "roman_numerals = {'I': 1, 'II': 2, 'III':3, 'V': 5, \"X\" : 100}"
   ]
  },
  {
   "cell_type": "code",
   "execution_count": 14,
   "id": "68c5b621-f49c-4171-be74-a11cc2d77ac9",
   "metadata": {},
   "outputs": [
    {
     "data": {
      "text/plain": [
       "{'I': 1, 'II': 2, 'III': 3, 'V': 5, 'X': 100}"
      ]
     },
     "execution_count": 14,
     "metadata": {},
     "output_type": "execute_result"
    }
   ],
   "source": [
    "roman_numerals"
   ]
  },
  {
   "cell_type": "code",
   "execution_count": 15,
   "id": "7789e5c1-bc1e-4a60-a777-4dd6b735be66",
   "metadata": {},
   "outputs": [
    {
     "data": {
      "text/plain": [
       "5"
      ]
     },
     "execution_count": 15,
     "metadata": {},
     "output_type": "execute_result"
    }
   ],
   "source": [
    "roman_numerals['V']"
   ]
  },
  {
   "cell_type": "code",
   "execution_count": 16,
   "id": "6b49eff4-7e8b-4fc4-85b3-b6291ed9ecd8",
   "metadata": {},
   "outputs": [],
   "source": [
    "roman_numerals['X'] = 10"
   ]
  },
  {
   "cell_type": "code",
   "execution_count": 17,
   "id": "79db7a3e-21b7-4084-9127-5a64c9ef91f0",
   "metadata": {},
   "outputs": [
    {
     "data": {
      "text/plain": [
       "{'I': 1, 'II': 2, 'III': 3, 'V': 5, 'X': 10}"
      ]
     },
     "execution_count": 17,
     "metadata": {},
     "output_type": "execute_result"
    }
   ],
   "source": [
    "roman_numerals"
   ]
  },
  {
   "cell_type": "code",
   "execution_count": 19,
   "id": "f33fb273-0981-488c-a71b-9ced14c33f07",
   "metadata": {},
   "outputs": [],
   "source": [
    "roman_numerals['L'] = 50"
   ]
  },
  {
   "cell_type": "code",
   "execution_count": 20,
   "id": "20f82493-b05c-4c7a-9b13-d4556ec9b2a0",
   "metadata": {},
   "outputs": [],
   "source": [
    "del roman_numerals['III']"
   ]
  },
  {
   "cell_type": "code",
   "execution_count": 21,
   "id": "30a43f60-70ca-4521-9907-f66719200948",
   "metadata": {},
   "outputs": [
    {
     "data": {
      "text/plain": [
       "{'I': 1, 'II': 2, 'V': 5, 'X': 10, 'L': 50}"
      ]
     },
     "execution_count": 21,
     "metadata": {},
     "output_type": "execute_result"
    }
   ],
   "source": [
    "roman_numerals"
   ]
  },
  {
   "cell_type": "code",
   "execution_count": 22,
   "id": "2d5445d9-4b1b-4023-bb6f-3315003a9574",
   "metadata": {},
   "outputs": [
    {
     "data": {
      "text/plain": [
       "10"
      ]
     },
     "execution_count": 22,
     "metadata": {},
     "output_type": "execute_result"
    }
   ],
   "source": [
    "roman_numerals.pop('X')"
   ]
  },
  {
   "cell_type": "code",
   "execution_count": 23,
   "id": "f10e74ff-f44d-4390-9e35-7c130512673e",
   "metadata": {},
   "outputs": [
    {
     "data": {
      "text/plain": [
       "{'I': 1, 'II': 2, 'V': 5, 'L': 50}"
      ]
     },
     "execution_count": 23,
     "metadata": {},
     "output_type": "execute_result"
    }
   ],
   "source": [
    "roman_numerals"
   ]
  },
  {
   "cell_type": "code",
   "execution_count": 24,
   "id": "93f54676-70e3-4f6e-89e1-07debf30a3d5",
   "metadata": {},
   "outputs": [
    {
     "ename": "KeyError",
     "evalue": "'III'",
     "output_type": "error",
     "traceback": [
      "\u001b[1;31m---------------------------------------------------------------------------\u001b[0m",
      "\u001b[1;31mKeyError\u001b[0m                                  Traceback (most recent call last)",
      "\u001b[1;32m~\\AppData\\Local\\Temp/ipykernel_50284/2614021150.py\u001b[0m in \u001b[0;36m<module>\u001b[1;34m\u001b[0m\n\u001b[1;32m----> 1\u001b[1;33m \u001b[0mroman_numerals\u001b[0m\u001b[1;33m[\u001b[0m\u001b[1;34m'III'\u001b[0m\u001b[1;33m]\u001b[0m \u001b[1;31m# this will error as key does not exist\u001b[0m\u001b[1;33m\u001b[0m\u001b[1;33m\u001b[0m\u001b[0m\n\u001b[0m",
      "\u001b[1;31mKeyError\u001b[0m: 'III'"
     ]
    }
   ],
   "source": [
    "roman_numerals['III'] # this will error as key does not exist"
   ]
  },
  {
   "cell_type": "code",
   "execution_count": 25,
   "id": "7e90e74f-d35c-4156-a1b3-0ab976598813",
   "metadata": {},
   "outputs": [],
   "source": [
    "roman_numerals.get('III')"
   ]
  },
  {
   "cell_type": "code",
   "execution_count": 26,
   "id": "403d703f-c6b6-426d-9ca5-d34d3328b363",
   "metadata": {},
   "outputs": [
    {
     "data": {
      "text/plain": [
       "'III not in dictionary'"
      ]
     },
     "execution_count": 26,
     "metadata": {},
     "output_type": "execute_result"
    }
   ],
   "source": [
    "roman_numerals.get('III', 'III not in dictionary')"
   ]
  },
  {
   "cell_type": "code",
   "execution_count": 27,
   "id": "72b3f79a-2499-4409-aac9-3a359a352f12",
   "metadata": {},
   "outputs": [
    {
     "data": {
      "text/plain": [
       "5"
      ]
     },
     "execution_count": 27,
     "metadata": {},
     "output_type": "execute_result"
    }
   ],
   "source": [
    "roman_numerals.get('V')"
   ]
  },
  {
   "cell_type": "code",
   "execution_count": 28,
   "id": "8f47acb2-5b83-4b9d-b0f8-b929acc7e818",
   "metadata": {},
   "outputs": [
    {
     "data": {
      "text/plain": [
       "True"
      ]
     },
     "execution_count": 28,
     "metadata": {},
     "output_type": "execute_result"
    }
   ],
   "source": [
    "'V' in roman_numerals"
   ]
  },
  {
   "cell_type": "code",
   "execution_count": 29,
   "id": "8bedb42b-2a63-4878-a1fc-e58f7d497cd7",
   "metadata": {},
   "outputs": [
    {
     "data": {
      "text/plain": [
       "False"
      ]
     },
     "execution_count": 29,
     "metadata": {},
     "output_type": "execute_result"
    }
   ],
   "source": [
    "'III' in roman_numerals"
   ]
  },
  {
   "cell_type": "code",
   "execution_count": 30,
   "id": "e89fb489-6787-41cd-9220-40a292656c40",
   "metadata": {},
   "outputs": [
    {
     "data": {
      "text/plain": [
       "True"
      ]
     },
     "execution_count": 30,
     "metadata": {},
     "output_type": "execute_result"
    }
   ],
   "source": [
    "'III' not in roman_numerals"
   ]
  },
  {
   "cell_type": "code",
   "execution_count": 32,
   "id": "bd6867f4-ce77-4086-acff-7dbfb39167bd",
   "metadata": {},
   "outputs": [],
   "source": [
    "roman_numerals = {'I' : 1, \"II\": 2, \"III\" : 3, \"V\": 5, \"X\": 100}"
   ]
  },
  {
   "cell_type": "code",
   "execution_count": 33,
   "id": "a2602e61-7c72-466b-8557-c0fd1673261a",
   "metadata": {},
   "outputs": [],
   "source": [
    "roman_numerals['x'] = 10"
   ]
  },
  {
   "cell_type": "code",
   "execution_count": 34,
   "id": "6d4e6489-a11a-433f-86b9-0a3931e1d210",
   "metadata": {},
   "outputs": [
    {
     "data": {
      "text/plain": [
       "{'I': 1, 'II': 2, 'III': 3, 'V': 5, 'X': 100, 'x': 10}"
      ]
     },
     "execution_count": 34,
     "metadata": {},
     "output_type": "execute_result"
    }
   ],
   "source": [
    "roman_numerals"
   ]
  },
  {
   "cell_type": "code",
   "execution_count": 35,
   "id": "c3a2d39a-c48c-4be2-a936-e5e7c5040cb4",
   "metadata": {},
   "outputs": [],
   "source": [
    "months = {'January': 1, 'February': 2, 'March': 3}"
   ]
  },
  {
   "cell_type": "code",
   "execution_count": 36,
   "id": "2342aeeb-4bd5-4f5c-b1a9-655aeb8da95e",
   "metadata": {},
   "outputs": [
    {
     "name": "stdout",
     "output_type": "stream",
     "text": [
      "January February March "
     ]
    }
   ],
   "source": [
    "for month_name in months.keys():\n",
    "    print(month_name, end=' ')"
   ]
  },
  {
   "cell_type": "code",
   "execution_count": 37,
   "id": "13751d78-eb47-4795-b3db-1ef1a005297c",
   "metadata": {},
   "outputs": [
    {
     "name": "stdout",
     "output_type": "stream",
     "text": [
      "1 2 3 "
     ]
    }
   ],
   "source": [
    "for month_number in months.values():\n",
    "    print(month_number, end=' ')"
   ]
  },
  {
   "cell_type": "code",
   "execution_count": 38,
   "id": "beef9e81-9b6a-41dc-8e06-77db0468283e",
   "metadata": {},
   "outputs": [],
   "source": [
    "months_view = months.keys()"
   ]
  },
  {
   "cell_type": "code",
   "execution_count": 39,
   "id": "14611844-7194-4216-ab40-9cefffb077c7",
   "metadata": {},
   "outputs": [
    {
     "name": "stdout",
     "output_type": "stream",
     "text": [
      "January February March "
     ]
    }
   ],
   "source": [
    "for key in months_view:\n",
    "    print(key, end=' ')\n"
   ]
  },
  {
   "cell_type": "code",
   "execution_count": 40,
   "id": "c3c43f61-2d08-4c78-aca7-e65a39ec3da7",
   "metadata": {},
   "outputs": [],
   "source": [
    "months['December'] = 12"
   ]
  },
  {
   "cell_type": "code",
   "execution_count": 41,
   "id": "b945e257-9236-4647-b7bd-64a259503ea2",
   "metadata": {},
   "outputs": [
    {
     "data": {
      "text/plain": [
       "{'January': 1, 'February': 2, 'March': 3, 'December': 12}"
      ]
     },
     "execution_count": 41,
     "metadata": {},
     "output_type": "execute_result"
    }
   ],
   "source": [
    "months"
   ]
  },
  {
   "cell_type": "code",
   "execution_count": 42,
   "id": "c1f7f4d0-5cb5-4b86-811e-b28764f9cb8e",
   "metadata": {},
   "outputs": [
    {
     "name": "stdout",
     "output_type": "stream",
     "text": [
      "January February March December "
     ]
    }
   ],
   "source": [
    "for key in  months_view:\n",
    "    print(key, end=' ')"
   ]
  },
  {
   "cell_type": "code",
   "execution_count": 43,
   "id": "5b085a96-3206-49bf-823b-24aca8a26671",
   "metadata": {},
   "outputs": [
    {
     "data": {
      "text/plain": [
       "['January', 'February', 'March', 'December']"
      ]
     },
     "execution_count": 43,
     "metadata": {},
     "output_type": "execute_result"
    }
   ],
   "source": [
    "list(months.keys())"
   ]
  },
  {
   "cell_type": "code",
   "execution_count": 44,
   "id": "b905cb7e-769f-4050-97d6-5db556cbc3c2",
   "metadata": {},
   "outputs": [
    {
     "data": {
      "text/plain": [
       "[1, 2, 3, 12]"
      ]
     },
     "execution_count": 44,
     "metadata": {},
     "output_type": "execute_result"
    }
   ],
   "source": [
    "list(months.values())"
   ]
  },
  {
   "cell_type": "code",
   "execution_count": 45,
   "id": "429c4d11-dadc-4bec-9f31-23fa6b58541f",
   "metadata": {},
   "outputs": [
    {
     "data": {
      "text/plain": [
       "[('January', 1), ('February', 2), ('March', 3), ('December', 12)]"
      ]
     },
     "execution_count": 45,
     "metadata": {},
     "output_type": "execute_result"
    }
   ],
   "source": [
    "list(months.items())"
   ]
  },
  {
   "cell_type": "code",
   "execution_count": 47,
   "id": "3818c7b0-7243-40f3-b0db-6870d843b631",
   "metadata": {},
   "outputs": [
    {
     "name": "stdout",
     "output_type": "stream",
     "text": [
      "December February January March "
     ]
    }
   ],
   "source": [
    "for month_name in sorted(months.keys()):\n",
    "    print(month_name, end=' ')"
   ]
  },
  {
   "cell_type": "code",
   "execution_count": 48,
   "id": "bfd07ae4-7e68-4754-acb4-47c085db3492",
   "metadata": {},
   "outputs": [],
   "source": [
    "roman_numerals = {'I': 1, 'II': 2, 'III' : 3, 'V': 5}"
   ]
  },
  {
   "cell_type": "code",
   "execution_count": 49,
   "id": "af3ec073-1b1e-4c2c-a341-da181677dbe0",
   "metadata": {},
   "outputs": [
    {
     "data": {
      "text/plain": [
       "['I', 'II', 'III', 'V']"
      ]
     },
     "execution_count": 49,
     "metadata": {},
     "output_type": "execute_result"
    }
   ],
   "source": [
    "list(roman_numerals.keys())"
   ]
  },
  {
   "cell_type": "code",
   "execution_count": 50,
   "id": "56d1eb39-76a2-446e-8a9f-76c479a51908",
   "metadata": {},
   "outputs": [
    {
     "data": {
      "text/plain": [
       "[1, 2, 3, 5]"
      ]
     },
     "execution_count": 50,
     "metadata": {},
     "output_type": "execute_result"
    }
   ],
   "source": [
    "list(roman_numerals.values())"
   ]
  },
  {
   "cell_type": "code",
   "execution_count": 51,
   "id": "0412b73a-9943-4733-bea9-1ad288f54958",
   "metadata": {},
   "outputs": [
    {
     "data": {
      "text/plain": [
       "[('I', 1), ('II', 2), ('III', 3), ('V', 5)]"
      ]
     },
     "execution_count": 51,
     "metadata": {},
     "output_type": "execute_result"
    }
   ],
   "source": [
    "list(roman_numerals.items())"
   ]
  },
  {
   "cell_type": "code",
   "execution_count": 52,
   "id": "a37fecd7-b7f0-4e2a-a7f3-e0ad9d1ec360",
   "metadata": {},
   "outputs": [],
   "source": [
    "country_capitals1 = {'Belgium': 'Brussels', 'Haiti': 'Port-au-Prince'}"
   ]
  },
  {
   "cell_type": "code",
   "execution_count": 53,
   "id": "affa8a51-28e8-4bdf-bfd6-b8dd0081ded9",
   "metadata": {},
   "outputs": [],
   "source": [
    "country_capitals2 = {'Nepal': 'Kathmandu', 'Uruguya': 'Montevideo'}"
   ]
  },
  {
   "cell_type": "code",
   "execution_count": 54,
   "id": "2a333ca5-569f-4232-80d6-eca44b868b8b",
   "metadata": {},
   "outputs": [],
   "source": [
    "country_capitals3 = {'Haiti': 'Port-au-Prince', 'Belgium': 'Brussels'}"
   ]
  },
  {
   "cell_type": "code",
   "execution_count": 55,
   "id": "b4c74a6a-a6ae-4c54-a1ba-3aa27fff8b38",
   "metadata": {},
   "outputs": [
    {
     "data": {
      "text/plain": [
       "True"
      ]
     },
     "execution_count": 55,
     "metadata": {},
     "output_type": "execute_result"
    }
   ],
   "source": [
    "country_capitals1 == country_capitals3"
   ]
  },
  {
   "cell_type": "code",
   "execution_count": 56,
   "id": "b23ca60f-8e1e-47d3-a117-6d1189b0f0b7",
   "metadata": {},
   "outputs": [
    {
     "data": {
      "text/plain": [
       "False"
      ]
     },
     "execution_count": 56,
     "metadata": {},
     "output_type": "execute_result"
    }
   ],
   "source": [
    "country_capitals1 == country_capitals2"
   ]
  },
  {
   "cell_type": "code",
   "execution_count": 57,
   "id": "2e7b337c-725c-4122-9625-27841b0db8a8",
   "metadata": {},
   "outputs": [
    {
     "data": {
      "text/plain": [
       "True"
      ]
     },
     "execution_count": 57,
     "metadata": {},
     "output_type": "execute_result"
    }
   ],
   "source": [
    "country_capitals1 != country_capitals2"
   ]
  },
  {
   "cell_type": "code",
   "execution_count": 58,
   "id": "981f3ae3-b8b8-4db3-a88d-b9a485a72e05",
   "metadata": {},
   "outputs": [],
   "source": [
    "grade_book = {'Susan': [92, 85, 100], 'Eduardo' : [83,95,79], 'Azizi' : [91,89,82], 'Pantipa': [97,91,92]}"
   ]
  },
  {
   "cell_type": "code",
   "execution_count": 59,
   "id": "5940b9a9-41ae-4b14-9ee0-2dd706c8dd22",
   "metadata": {},
   "outputs": [],
   "source": [
    "all_grades_total = 0\n",
    "all_grades_count = 0"
   ]
  },
  {
   "cell_type": "code",
   "execution_count": 63,
   "id": "a40230ae-17fd-4ca7-9e2e-c6124e79b609",
   "metadata": {},
   "outputs": [
    {
     "name": "stdout",
     "output_type": "stream",
     "text": [
      "Average for Susan is 92.33\n",
      "Average for Eduardo is 85.67\n",
      "Average for Azizi is 87.33\n",
      "Average for Pantipa is 93.33\n"
     ]
    }
   ],
   "source": [
    "for name, grades in grade_book.items():\n",
    "    total = sum(grades)\n",
    "    print(f'Average for {name} is {total/len(grades):.2f}')\n",
    "    all_grades_total += total\n",
    "    all_grades_count += len(grades)\n"
   ]
  },
  {
   "cell_type": "code",
   "execution_count": 65,
   "id": "a935c7ff-eebc-4cc2-9990-4f1cecdffae3",
   "metadata": {},
   "outputs": [
    {
     "name": "stdout",
     "output_type": "stream",
     "text": [
      "Class's average is: 89.67\n"
     ]
    }
   ],
   "source": [
    "print(f\"Class's average is: {all_grades_total / all_grades_count:.2f}\")"
   ]
  },
  {
   "cell_type": "code",
   "execution_count": 66,
   "id": "c3fef400-476b-4199-b40a-8ddd0504e0f7",
   "metadata": {},
   "outputs": [],
   "source": [
    "from collections import Counter"
   ]
  },
  {
   "cell_type": "code",
   "execution_count": 67,
   "id": "74e3d545-9a01-4c69-99c1-6e1c1801a79e",
   "metadata": {},
   "outputs": [],
   "source": [
    "text = ('this is sample text with several words '\n",
    "        'this is more sample text with some different words')"
   ]
  },
  {
   "cell_type": "code",
   "execution_count": 68,
   "id": "6955a910-0db2-494f-9add-3f22a51b9bdb",
   "metadata": {},
   "outputs": [],
   "source": [
    "counter = Counter(text.split())"
   ]
  },
  {
   "cell_type": "code",
   "execution_count": 69,
   "id": "08921b28-08e2-4b39-859a-197c186683a7",
   "metadata": {},
   "outputs": [
    {
     "name": "stdout",
     "output_type": "stream",
     "text": [
      "different   1\n",
      "is          2\n",
      "more        1\n",
      "sample      2\n",
      "several     1\n",
      "some        1\n",
      "text        2\n",
      "this        2\n",
      "with        2\n",
      "words       2\n"
     ]
    }
   ],
   "source": [
    "for word, count in sorted(counter.items()):\n",
    "    print(f'{word:<12}{count}')"
   ]
  },
  {
   "cell_type": "code",
   "execution_count": 70,
   "id": "a9daacfa-216d-4fab-a4c1-c5294a147f2e",
   "metadata": {},
   "outputs": [
    {
     "name": "stdout",
     "output_type": "stream",
     "text": [
      "Number of unique keys: 10\n"
     ]
    }
   ],
   "source": [
    "print('Number of unique keys:', len(counter.keys()))"
   ]
  },
  {
   "cell_type": "code",
   "execution_count": 71,
   "id": "b381fb4d-edf5-4b38-ad4e-420305049dfc",
   "metadata": {},
   "outputs": [],
   "source": [
    "import random"
   ]
  },
  {
   "cell_type": "code",
   "execution_count": 72,
   "id": "aec45a94-4df3-4818-bbbc-fbc0470d37aa",
   "metadata": {},
   "outputs": [],
   "source": [
    "numbers = [random.randrange(1, 6) for i in range(50)]"
   ]
  },
  {
   "cell_type": "code",
   "execution_count": 73,
   "id": "65bc4830-fb58-422a-b14b-bdd4c8d14f3b",
   "metadata": {},
   "outputs": [],
   "source": [
    "counter = Counter(numbers)"
   ]
  },
  {
   "cell_type": "code",
   "execution_count": 74,
   "id": "b4c03c91-8ba8-4e14-b50d-4a54ef1e37df",
   "metadata": {},
   "outputs": [
    {
     "name": "stdout",
     "output_type": "stream",
     "text": [
      "1   7\n",
      "2   8\n",
      "3   9\n",
      "4   15\n",
      "5   11\n"
     ]
    }
   ],
   "source": [
    "for value, count in sorted(counter.items()):\n",
    "    print(f'{value:<4}{count}')"
   ]
  },
  {
   "cell_type": "code",
   "execution_count": 75,
   "id": "ac83762b-c82a-45bd-b47c-cab70caba531",
   "metadata": {},
   "outputs": [],
   "source": [
    "country_codes = {}"
   ]
  },
  {
   "cell_type": "code",
   "execution_count": 77,
   "id": "24800357-b984-46f8-ba7e-367f30b116c3",
   "metadata": {},
   "outputs": [],
   "source": [
    "country_codes.update({'South Africa': 'za'})"
   ]
  },
  {
   "cell_type": "code",
   "execution_count": 78,
   "id": "a1843d48-812f-4be1-89c1-1783d9c4e95f",
   "metadata": {},
   "outputs": [
    {
     "data": {
      "text/plain": [
       "{'South Africa': 'za'}"
      ]
     },
     "execution_count": 78,
     "metadata": {},
     "output_type": "execute_result"
    }
   ],
   "source": [
    "country_codes"
   ]
  },
  {
   "cell_type": "code",
   "execution_count": 79,
   "id": "7180bd6d-d9a2-4ad7-b6ca-b6d794b26d5b",
   "metadata": {},
   "outputs": [],
   "source": [
    "country_codes.update(Australia='ar')"
   ]
  },
  {
   "cell_type": "code",
   "execution_count": 80,
   "id": "0758c5c6-ce1f-4604-b8f7-b3269480c2fe",
   "metadata": {},
   "outputs": [
    {
     "data": {
      "text/plain": [
       "{'South Africa': 'za', 'Australia': 'ar'}"
      ]
     },
     "execution_count": 80,
     "metadata": {},
     "output_type": "execute_result"
    }
   ],
   "source": [
    "country_codes"
   ]
  },
  {
   "cell_type": "code",
   "execution_count": 81,
   "id": "f660b5b3-e100-4a75-8743-ffe8837893d0",
   "metadata": {},
   "outputs": [],
   "source": [
    "country_codes.update(Australia='au')"
   ]
  },
  {
   "cell_type": "code",
   "execution_count": 82,
   "id": "640548c9-8e95-482e-92c9-27244bcdacf0",
   "metadata": {},
   "outputs": [
    {
     "data": {
      "text/plain": [
       "{'South Africa': 'za', 'Australia': 'au'}"
      ]
     },
     "execution_count": 82,
     "metadata": {},
     "output_type": "execute_result"
    }
   ],
   "source": [
    "country_codes"
   ]
  },
  {
   "cell_type": "code",
   "execution_count": 83,
   "id": "2f9bce3f-a73a-48ac-bb3d-91ef6a7b2b92",
   "metadata": {},
   "outputs": [],
   "source": [
    "months = {'January': 1, 'February': 2, 'Marc': 3}"
   ]
  },
  {
   "cell_type": "code",
   "execution_count": 84,
   "id": "72a7f9c1-2b95-4653-9d3e-f04a0e2a809a",
   "metadata": {},
   "outputs": [],
   "source": [
    "months2 = {number: name for name, number in months.items()}"
   ]
  },
  {
   "cell_type": "code",
   "execution_count": 85,
   "id": "609a507c-f8c4-4717-a15b-eb6874c7f4fc",
   "metadata": {},
   "outputs": [
    {
     "data": {
      "text/plain": [
       "{1: 'January', 2: 'February', 3: 'Marc'}"
      ]
     },
     "execution_count": 85,
     "metadata": {},
     "output_type": "execute_result"
    }
   ],
   "source": [
    "months2"
   ]
  },
  {
   "cell_type": "code",
   "execution_count": 86,
   "id": "830a5bce-0731-4409-871a-91c0e582d45d",
   "metadata": {},
   "outputs": [],
   "source": [
    "grades = {'Sue': [98, 87, 94], 'Bob': [84, 95, 91]}"
   ]
  },
  {
   "cell_type": "code",
   "execution_count": 87,
   "id": "cc683e2f-a87b-4d0b-90b6-9bda3847cd86",
   "metadata": {},
   "outputs": [],
   "source": [
    "grades2= {k: sum(v)/len(v) for k,v in grades.items()}"
   ]
  },
  {
   "cell_type": "code",
   "execution_count": 88,
   "id": "0757740c-e114-417f-a63b-5c16adc75379",
   "metadata": {},
   "outputs": [
    {
     "data": {
      "text/plain": [
       "{'Sue': 93.0, 'Bob': 90.0}"
      ]
     },
     "execution_count": 88,
     "metadata": {},
     "output_type": "execute_result"
    }
   ],
   "source": [
    "grades2"
   ]
  },
  {
   "cell_type": "code",
   "execution_count": 89,
   "id": "336af90a-fe0b-41f0-8fdb-dd3d7a766502",
   "metadata": {},
   "outputs": [
    {
     "data": {
      "text/plain": [
       "{1: 1, 2: 8, 3: 27, 4: 64, 5: 125}"
      ]
     },
     "execution_count": 89,
     "metadata": {},
     "output_type": "execute_result"
    }
   ],
   "source": [
    "{number: number **3 for number in range(1,6)}"
   ]
  },
  {
   "cell_type": "code",
   "execution_count": null,
   "id": "c8461b9c-b408-4835-ad5c-b92a1f6e8352",
   "metadata": {},
   "outputs": [],
   "source": []
  }
 ],
 "metadata": {
  "kernelspec": {
   "display_name": "Python 3 (ipykernel)",
   "language": "python",
   "name": "python3"
  },
  "language_info": {
   "codemirror_mode": {
    "name": "ipython",
    "version": 3
   },
   "file_extension": ".py",
   "mimetype": "text/x-python",
   "name": "python",
   "nbconvert_exporter": "python",
   "pygments_lexer": "ipython3",
   "version": "3.9.7"
  }
 },
 "nbformat": 4,
 "nbformat_minor": 5
}
