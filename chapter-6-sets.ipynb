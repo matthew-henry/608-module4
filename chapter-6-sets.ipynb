{
 "cells": [
  {
   "cell_type": "code",
   "execution_count": 2,
   "id": "2e87d4b3-1ad3-413e-821f-e2ee088f942a",
   "metadata": {},
   "outputs": [],
   "source": [
    "colors = {'red', 'orange', 'yellow', 'green', 'red', 'blue'}"
   ]
  },
  {
   "cell_type": "code",
   "execution_count": 3,
   "id": "785b32d7-7fbf-4fae-88af-5f5b6c2d4e08",
   "metadata": {},
   "outputs": [
    {
     "data": {
      "text/plain": [
       "{'blue', 'green', 'orange', 'red', 'yellow'}"
      ]
     },
     "execution_count": 3,
     "metadata": {},
     "output_type": "execute_result"
    }
   ],
   "source": [
    "colors"
   ]
  },
  {
   "cell_type": "code",
   "execution_count": 4,
   "id": "411eb1f9-7ccc-4148-b923-2e0e1f9ee9de",
   "metadata": {},
   "outputs": [
    {
     "data": {
      "text/plain": [
       "5"
      ]
     },
     "execution_count": 4,
     "metadata": {},
     "output_type": "execute_result"
    }
   ],
   "source": [
    "len(colors)"
   ]
  },
  {
   "cell_type": "code",
   "execution_count": 5,
   "id": "79a37dc9-5e0f-4415-bfc2-9df0137ad34d",
   "metadata": {},
   "outputs": [
    {
     "data": {
      "text/plain": [
       "True"
      ]
     },
     "execution_count": 5,
     "metadata": {},
     "output_type": "execute_result"
    }
   ],
   "source": [
    "'red' in colors"
   ]
  },
  {
   "cell_type": "code",
   "execution_count": 6,
   "id": "30a84538-075c-4e88-99eb-7e40ff5fa51e",
   "metadata": {},
   "outputs": [
    {
     "data": {
      "text/plain": [
       "False"
      ]
     },
     "execution_count": 6,
     "metadata": {},
     "output_type": "execute_result"
    }
   ],
   "source": [
    "'purple' in colors"
   ]
  },
  {
   "cell_type": "code",
   "execution_count": 7,
   "id": "c5382123-2934-4626-8005-6463ca0e5956",
   "metadata": {},
   "outputs": [
    {
     "data": {
      "text/plain": [
       "True"
      ]
     },
     "execution_count": 7,
     "metadata": {},
     "output_type": "execute_result"
    }
   ],
   "source": [
    "'purple' not in colors"
   ]
  },
  {
   "cell_type": "code",
   "execution_count": 8,
   "id": "4899b81f-5c0c-4ad6-a716-f6ef7625e140",
   "metadata": {},
   "outputs": [
    {
     "name": "stdout",
     "output_type": "stream",
     "text": [
      "ORANGE GREEN RED YELLOW BLUE "
     ]
    }
   ],
   "source": [
    "for color in colors:\n",
    "    print(color.upper(), end=' ')"
   ]
  },
  {
   "cell_type": "code",
   "execution_count": 9,
   "id": "eaaf776e-f812-4da1-8887-826c91639d1d",
   "metadata": {},
   "outputs": [],
   "source": [
    "numbers = list(range(10))+list(range(5))"
   ]
  },
  {
   "cell_type": "code",
   "execution_count": 10,
   "id": "7c3a49b4-d125-45ce-9621-c247fa793918",
   "metadata": {},
   "outputs": [
    {
     "data": {
      "text/plain": [
       "[0, 1, 2, 3, 4, 5, 6, 7, 8, 9, 0, 1, 2, 3, 4]"
      ]
     },
     "execution_count": 10,
     "metadata": {},
     "output_type": "execute_result"
    }
   ],
   "source": [
    "numbers"
   ]
  },
  {
   "cell_type": "code",
   "execution_count": 11,
   "id": "1b68137f-12d3-49c1-91ee-97a6c2d7d8a4",
   "metadata": {},
   "outputs": [
    {
     "data": {
      "text/plain": [
       "{0, 1, 2, 3, 4, 5, 6, 7, 8, 9}"
      ]
     },
     "execution_count": 11,
     "metadata": {},
     "output_type": "execute_result"
    }
   ],
   "source": [
    "set(numbers)"
   ]
  },
  {
   "cell_type": "code",
   "execution_count": 12,
   "id": "5f67d6c5-ce29-4c77-8b81-e850535f93a0",
   "metadata": {},
   "outputs": [
    {
     "data": {
      "text/plain": [
       "set()"
      ]
     },
     "execution_count": 12,
     "metadata": {},
     "output_type": "execute_result"
    }
   ],
   "source": [
    "set()"
   ]
  },
  {
   "cell_type": "code",
   "execution_count": 13,
   "id": "b364614f-ba6a-49af-a524-4e0d032e8e0d",
   "metadata": {},
   "outputs": [],
   "source": [
    "text = 'to be or not to be that is the question'"
   ]
  },
  {
   "cell_type": "code",
   "execution_count": 14,
   "id": "5ed14bc5-3cfa-4b6f-b5b2-c7e8500e49af",
   "metadata": {},
   "outputs": [],
   "source": [
    "unique_words = set(text.split())"
   ]
  },
  {
   "cell_type": "code",
   "execution_count": 15,
   "id": "1bc3c82e-4233-4fbe-9435-82756e79708f",
   "metadata": {},
   "outputs": [
    {
     "name": "stdout",
     "output_type": "stream",
     "text": [
      "be is not or question that the to "
     ]
    }
   ],
   "source": [
    "for word in sorted(unique_words):\n",
    "    print(word, end=' ')"
   ]
  },
  {
   "cell_type": "code",
   "execution_count": 16,
   "id": "9bc4f453-9258-4a5b-b5a3-8961e01e599f",
   "metadata": {},
   "outputs": [
    {
     "data": {
      "text/plain": [
       "True"
      ]
     },
     "execution_count": 16,
     "metadata": {},
     "output_type": "execute_result"
    }
   ],
   "source": [
    "{1,3,5} == {3,5,1}"
   ]
  },
  {
   "cell_type": "code",
   "execution_count": 17,
   "id": "a3d2f0b6-02b6-4782-a1e6-6f0fb784856a",
   "metadata": {},
   "outputs": [
    {
     "data": {
      "text/plain": [
       "False"
      ]
     },
     "execution_count": 17,
     "metadata": {},
     "output_type": "execute_result"
    }
   ],
   "source": [
    "{1,3,5} != {3,5,1}"
   ]
  },
  {
   "cell_type": "code",
   "execution_count": 18,
   "id": "6a78e852-80f6-434c-9479-fd8d62f91460",
   "metadata": {},
   "outputs": [
    {
     "data": {
      "text/plain": [
       "False"
      ]
     },
     "execution_count": 18,
     "metadata": {},
     "output_type": "execute_result"
    }
   ],
   "source": [
    "{1,3,5}<{3,5,1}"
   ]
  },
  {
   "cell_type": "code",
   "execution_count": 19,
   "id": "febf67e5-36fe-406f-bb83-20f3ed4d3085",
   "metadata": {},
   "outputs": [
    {
     "data": {
      "text/plain": [
       "True"
      ]
     },
     "execution_count": 19,
     "metadata": {},
     "output_type": "execute_result"
    }
   ],
   "source": [
    "{1,3,5} < {7,3,5,1}"
   ]
  },
  {
   "cell_type": "code",
   "execution_count": 20,
   "id": "72758363-933b-4acb-aa1f-522bed2167ca",
   "metadata": {},
   "outputs": [
    {
     "data": {
      "text/plain": [
       "True"
      ]
     },
     "execution_count": 20,
     "metadata": {},
     "output_type": "execute_result"
    }
   ],
   "source": [
    "{1,3,5} <= {3,5,1}"
   ]
  },
  {
   "cell_type": "code",
   "execution_count": 21,
   "id": "7467a27b-4dc6-42e9-8c29-094427cd4f99",
   "metadata": {},
   "outputs": [
    {
     "data": {
      "text/plain": [
       "True"
      ]
     },
     "execution_count": 21,
     "metadata": {},
     "output_type": "execute_result"
    }
   ],
   "source": [
    "{1,3} <= {3,5,1}"
   ]
  },
  {
   "cell_type": "code",
   "execution_count": 23,
   "id": "00ff8158-51c2-4e83-a6d4-9a2960f74f87",
   "metadata": {},
   "outputs": [
    {
     "data": {
      "text/plain": [
       "True"
      ]
     },
     "execution_count": 23,
     "metadata": {},
     "output_type": "execute_result"
    }
   ],
   "source": [
    "{1,3,5}.issubset({3,5,1})"
   ]
  },
  {
   "cell_type": "code",
   "execution_count": 24,
   "id": "45bcca66-8778-4efd-9372-7eed1a8f98c3",
   "metadata": {},
   "outputs": [
    {
     "data": {
      "text/plain": [
       "False"
      ]
     },
     "execution_count": 24,
     "metadata": {},
     "output_type": "execute_result"
    }
   ],
   "source": [
    "{1,2}.issubset({3,5,1})"
   ]
  },
  {
   "cell_type": "code",
   "execution_count": 25,
   "id": "760a94c8-65fb-4256-a9b1-b12e4b0c5aad",
   "metadata": {},
   "outputs": [
    {
     "data": {
      "text/plain": [
       "False"
      ]
     },
     "execution_count": 25,
     "metadata": {},
     "output_type": "execute_result"
    }
   ],
   "source": [
    "{1,3,5} > {3,5,1}"
   ]
  },
  {
   "cell_type": "code",
   "execution_count": 26,
   "id": "bba5dd22-93f4-45b8-9559-5a82c3d862e8",
   "metadata": {},
   "outputs": [
    {
     "data": {
      "text/plain": [
       "True"
      ]
     },
     "execution_count": 26,
     "metadata": {},
     "output_type": "execute_result"
    }
   ],
   "source": [
    "{1,3,5,7} > {3,5,1}"
   ]
  },
  {
   "cell_type": "code",
   "execution_count": 27,
   "id": "4c870b91-96f1-4dc1-85c0-cbe86ffca60a",
   "metadata": {},
   "outputs": [
    {
     "data": {
      "text/plain": [
       "True"
      ]
     },
     "execution_count": 27,
     "metadata": {},
     "output_type": "execute_result"
    }
   ],
   "source": [
    "{1,3,5} >= {3,5,1}"
   ]
  },
  {
   "cell_type": "code",
   "execution_count": 28,
   "id": "fb62409f-d606-4411-99d4-d1147e04747a",
   "metadata": {},
   "outputs": [
    {
     "data": {
      "text/plain": [
       "True"
      ]
     },
     "execution_count": 28,
     "metadata": {},
     "output_type": "execute_result"
    }
   ],
   "source": [
    "{1,3,5} >= {3,1}"
   ]
  },
  {
   "cell_type": "code",
   "execution_count": 29,
   "id": "00c37cfa-b957-471f-9838-7f8bbb2c5a74",
   "metadata": {},
   "outputs": [
    {
     "data": {
      "text/plain": [
       "False"
      ]
     },
     "execution_count": 29,
     "metadata": {},
     "output_type": "execute_result"
    }
   ],
   "source": [
    "{1,3} >= {3,1,7}"
   ]
  },
  {
   "cell_type": "code",
   "execution_count": 30,
   "id": "d44c625e-e175-494b-8c41-a19a7d9085e3",
   "metadata": {},
   "outputs": [
    {
     "data": {
      "text/plain": [
       "True"
      ]
     },
     "execution_count": 30,
     "metadata": {},
     "output_type": "execute_result"
    }
   ],
   "source": [
    "{1,3,5}.issuperset({3,5,1})"
   ]
  },
  {
   "cell_type": "code",
   "execution_count": 31,
   "id": "c8478678-74c6-4678-85ec-1c9c82073190",
   "metadata": {},
   "outputs": [
    {
     "data": {
      "text/plain": [
       "False"
      ]
     },
     "execution_count": 31,
     "metadata": {},
     "output_type": "execute_result"
    }
   ],
   "source": [
    "{1,3,5}.issuperset({3,2})"
   ]
  },
  {
   "cell_type": "code",
   "execution_count": 32,
   "id": "7cf08348-48f4-4ce0-bfbd-3bcc41c6f5f9",
   "metadata": {},
   "outputs": [
    {
     "data": {
      "text/plain": [
       "True"
      ]
     },
     "execution_count": 32,
     "metadata": {},
     "output_type": "execute_result"
    }
   ],
   "source": [
    "set('abc def ghi jkl mno').issuperset('hi mom')"
   ]
  },
  {
   "cell_type": "code",
   "execution_count": 33,
   "id": "a5928026-1407-4d60-ab53-97c7655bbeb6",
   "metadata": {},
   "outputs": [
    {
     "data": {
      "text/plain": [
       "{1, 2, 3, 4, 5}"
      ]
     },
     "execution_count": 33,
     "metadata": {},
     "output_type": "execute_result"
    }
   ],
   "source": [
    "{1,3,5} | {2,3,4}"
   ]
  },
  {
   "cell_type": "code",
   "execution_count": 34,
   "id": "c85d36c9-7f17-4d5f-89a1-22904de314a4",
   "metadata": {},
   "outputs": [
    {
     "data": {
      "text/plain": [
       "{1, 3, 5, 20, 40}"
      ]
     },
     "execution_count": 34,
     "metadata": {},
     "output_type": "execute_result"
    }
   ],
   "source": [
    "{1,3,5}.union([20,20,3,40,40])"
   ]
  },
  {
   "cell_type": "code",
   "execution_count": 35,
   "id": "81424dbd-9cb2-4352-af8e-b7b9dc1643b7",
   "metadata": {},
   "outputs": [
    {
     "data": {
      "text/plain": [
       "{3}"
      ]
     },
     "execution_count": 35,
     "metadata": {},
     "output_type": "execute_result"
    }
   ],
   "source": [
    "{1,3,5} & {2,3,4}"
   ]
  },
  {
   "cell_type": "code",
   "execution_count": 36,
   "id": "d1cac320-e303-45fa-8e91-accdf5169824",
   "metadata": {},
   "outputs": [
    {
     "data": {
      "text/plain": [
       "{1, 3}"
      ]
     },
     "execution_count": 36,
     "metadata": {},
     "output_type": "execute_result"
    }
   ],
   "source": [
    "{1,3,5}.intersection([1,2,2,3,3,4,4])"
   ]
  },
  {
   "cell_type": "code",
   "execution_count": 37,
   "id": "72d1562f-4c37-45a3-acc9-3079d059469d",
   "metadata": {},
   "outputs": [
    {
     "data": {
      "text/plain": [
       "{1, 5}"
      ]
     },
     "execution_count": 37,
     "metadata": {},
     "output_type": "execute_result"
    }
   ],
   "source": [
    "{1,3,5} - {2,3,4}"
   ]
  },
  {
   "cell_type": "code",
   "execution_count": 38,
   "id": "ef6239dd-78d9-4ec0-9d13-995bda266c90",
   "metadata": {},
   "outputs": [
    {
     "data": {
      "text/plain": [
       "{1, 5, 7}"
      ]
     },
     "execution_count": 38,
     "metadata": {},
     "output_type": "execute_result"
    }
   ],
   "source": [
    "{1,3,5,7}.difference([2,2,3,3,4,4])"
   ]
  },
  {
   "cell_type": "code",
   "execution_count": 39,
   "id": "fa0c7131-04cc-453c-9074-406326b3648c",
   "metadata": {},
   "outputs": [
    {
     "data": {
      "text/plain": [
       "{1, 2, 4, 5}"
      ]
     },
     "execution_count": 39,
     "metadata": {},
     "output_type": "execute_result"
    }
   ],
   "source": [
    "{1,3,5} ^ {2,3,4}"
   ]
  },
  {
   "cell_type": "code",
   "execution_count": 40,
   "id": "8c51a618-c42e-4fbf-a99e-316d8ab55f55",
   "metadata": {},
   "outputs": [
    {
     "data": {
      "text/plain": [
       "{1, 2, 4, 5, 7}"
      ]
     },
     "execution_count": 40,
     "metadata": {},
     "output_type": "execute_result"
    }
   ],
   "source": [
    "{1,3,5,7}.symmetric_difference([2,2,3,3,4,4])"
   ]
  },
  {
   "cell_type": "code",
   "execution_count": 41,
   "id": "4e4765cf-a674-4f71-af40-b20f08fb9fd3",
   "metadata": {},
   "outputs": [
    {
     "data": {
      "text/plain": [
       "True"
      ]
     },
     "execution_count": 41,
     "metadata": {},
     "output_type": "execute_result"
    }
   ],
   "source": [
    "{1,3,5}.isdisjoint({2,4,6})"
   ]
  },
  {
   "cell_type": "code",
   "execution_count": 42,
   "id": "698e64bd-edd9-4822-9823-21be1650fc70",
   "metadata": {},
   "outputs": [
    {
     "data": {
      "text/plain": [
       "False"
      ]
     },
     "execution_count": 42,
     "metadata": {},
     "output_type": "execute_result"
    }
   ],
   "source": [
    "{1,3,5}.isdisjoint({4,6,1})"
   ]
  },
  {
   "cell_type": "code",
   "execution_count": 43,
   "id": "35bbded1-976b-448f-a12d-65f6ebff1501",
   "metadata": {},
   "outputs": [],
   "source": [
    "set1={10,20,30}"
   ]
  },
  {
   "cell_type": "code",
   "execution_count": 44,
   "id": "a36ef86b-f4dd-43a7-91b5-604c5d6a3c13",
   "metadata": {},
   "outputs": [],
   "source": [
    "set2={5,10,15,20}"
   ]
  },
  {
   "cell_type": "code",
   "execution_count": 45,
   "id": "5361dcb6-7a1a-42be-aea7-8fb49d6285a1",
   "metadata": {},
   "outputs": [
    {
     "data": {
      "text/plain": [
       "{30}"
      ]
     },
     "execution_count": 45,
     "metadata": {},
     "output_type": "execute_result"
    }
   ],
   "source": [
    "set1 - set2"
   ]
  },
  {
   "cell_type": "code",
   "execution_count": 46,
   "id": "fabceb3c-5245-42e5-bb62-1ebffea20e78",
   "metadata": {},
   "outputs": [
    {
     "data": {
      "text/plain": [
       "{5, 15, 30}"
      ]
     },
     "execution_count": 46,
     "metadata": {},
     "output_type": "execute_result"
    }
   ],
   "source": [
    "set1 ^ set2"
   ]
  },
  {
   "cell_type": "code",
   "execution_count": 47,
   "id": "62ca2a7a-60d9-4bce-a257-ab24e7967f4d",
   "metadata": {},
   "outputs": [
    {
     "data": {
      "text/plain": [
       "{5, 10, 15, 20, 30}"
      ]
     },
     "execution_count": 47,
     "metadata": {},
     "output_type": "execute_result"
    }
   ],
   "source": [
    "set1 | set2"
   ]
  },
  {
   "cell_type": "code",
   "execution_count": 48,
   "id": "bc9267b7-f604-4609-9735-e0a95468b859",
   "metadata": {},
   "outputs": [
    {
     "data": {
      "text/plain": [
       "{10, 20}"
      ]
     },
     "execution_count": 48,
     "metadata": {},
     "output_type": "execute_result"
    }
   ],
   "source": [
    "set1 & set2"
   ]
  },
  {
   "cell_type": "code",
   "execution_count": 49,
   "id": "3c63925d-6079-4080-bf45-229581f98ac7",
   "metadata": {},
   "outputs": [],
   "source": [
    "numbers = {1,3,5}"
   ]
  },
  {
   "cell_type": "code",
   "execution_count": 50,
   "id": "5746cfbd-4825-4014-be29-01a7494d7dac",
   "metadata": {},
   "outputs": [],
   "source": [
    "numbers |= {2,3,4}"
   ]
  },
  {
   "cell_type": "code",
   "execution_count": 51,
   "id": "7b16664a-fba7-490f-98d8-d8fc2c1e7d06",
   "metadata": {},
   "outputs": [
    {
     "data": {
      "text/plain": [
       "{1, 2, 3, 4, 5}"
      ]
     },
     "execution_count": 51,
     "metadata": {},
     "output_type": "execute_result"
    }
   ],
   "source": [
    "numbers"
   ]
  },
  {
   "cell_type": "code",
   "execution_count": 52,
   "id": "edf27980-1566-4d8e-bb4e-ae31a4f3ceea",
   "metadata": {},
   "outputs": [],
   "source": [
    "numbers.update(range(10))"
   ]
  },
  {
   "cell_type": "code",
   "execution_count": 53,
   "id": "bf2d49fe-7779-409c-91e5-9463e1745e60",
   "metadata": {},
   "outputs": [
    {
     "data": {
      "text/plain": [
       "{0, 1, 2, 3, 4, 5, 6, 7, 8, 9}"
      ]
     },
     "execution_count": 53,
     "metadata": {},
     "output_type": "execute_result"
    }
   ],
   "source": [
    "numbers"
   ]
  },
  {
   "cell_type": "code",
   "execution_count": 54,
   "id": "edc3ffb4-0425-4e6f-8fc2-a01491efa429",
   "metadata": {},
   "outputs": [],
   "source": [
    "numbers.add(17)"
   ]
  },
  {
   "cell_type": "code",
   "execution_count": 55,
   "id": "b78628a3-cb93-4013-88a2-ca805389feba",
   "metadata": {},
   "outputs": [],
   "source": [
    "numbers.add(3)"
   ]
  },
  {
   "cell_type": "code",
   "execution_count": 56,
   "id": "5c84f84d-eb78-4c81-8af1-ca0c848b1520",
   "metadata": {},
   "outputs": [
    {
     "data": {
      "text/plain": [
       "{0, 1, 2, 3, 4, 5, 6, 7, 8, 9, 17}"
      ]
     },
     "execution_count": 56,
     "metadata": {},
     "output_type": "execute_result"
    }
   ],
   "source": [
    "numbers"
   ]
  },
  {
   "cell_type": "code",
   "execution_count": 57,
   "id": "12d74c1e-9874-4f6e-93c3-f48d0d2c5f21",
   "metadata": {},
   "outputs": [],
   "source": [
    "numbers.remove(3)"
   ]
  },
  {
   "cell_type": "code",
   "execution_count": 58,
   "id": "4a24c438-7076-4503-96a3-8c687fe383b2",
   "metadata": {},
   "outputs": [
    {
     "data": {
      "text/plain": [
       "{0, 1, 2, 4, 5, 6, 7, 8, 9, 17}"
      ]
     },
     "execution_count": 58,
     "metadata": {},
     "output_type": "execute_result"
    }
   ],
   "source": [
    "numbers"
   ]
  },
  {
   "cell_type": "code",
   "execution_count": 59,
   "id": "20736513-851f-4eae-ad0e-f624010fd3e0",
   "metadata": {},
   "outputs": [
    {
     "data": {
      "text/plain": [
       "0"
      ]
     },
     "execution_count": 59,
     "metadata": {},
     "output_type": "execute_result"
    }
   ],
   "source": [
    "numbers.pop()"
   ]
  },
  {
   "cell_type": "code",
   "execution_count": 60,
   "id": "5eae417d-a0cd-48d0-9068-feb5e8c3a3de",
   "metadata": {},
   "outputs": [
    {
     "data": {
      "text/plain": [
       "{1, 2, 4, 5, 6, 7, 8, 9, 17}"
      ]
     },
     "execution_count": 60,
     "metadata": {},
     "output_type": "execute_result"
    }
   ],
   "source": [
    "numbers"
   ]
  },
  {
   "cell_type": "code",
   "execution_count": 61,
   "id": "c30fd76d-b0be-4a2b-8946-ae8fe3472874",
   "metadata": {},
   "outputs": [],
   "source": [
    "numbers.clear()"
   ]
  },
  {
   "cell_type": "code",
   "execution_count": 62,
   "id": "16de99ac-d418-4179-a94a-41769a52631e",
   "metadata": {},
   "outputs": [
    {
     "data": {
      "text/plain": [
       "set()"
      ]
     },
     "execution_count": 62,
     "metadata": {},
     "output_type": "execute_result"
    }
   ],
   "source": [
    "numbers"
   ]
  },
  {
   "cell_type": "code",
   "execution_count": 63,
   "id": "204f50ab-7c02-4a77-8892-9ba36472b68a",
   "metadata": {},
   "outputs": [],
   "source": [
    "numbers = {1, 2,2,3,4,5,6,6,7,8,9,10,10}"
   ]
  },
  {
   "cell_type": "code",
   "execution_count": 64,
   "id": "1b46b548-a3cc-4d0c-8434-9a628b5b7ccd",
   "metadata": {},
   "outputs": [],
   "source": [
    "evens = {item for item in numbers if item%2 ==0}"
   ]
  },
  {
   "cell_type": "code",
   "execution_count": 65,
   "id": "6c0ce738-ac48-46e3-947f-480b8df4b55c",
   "metadata": {},
   "outputs": [
    {
     "data": {
      "text/plain": [
       "{2, 4, 6, 8, 10}"
      ]
     },
     "execution_count": 65,
     "metadata": {},
     "output_type": "execute_result"
    }
   ],
   "source": [
    "evens"
   ]
  },
  {
   "cell_type": "code",
   "execution_count": null,
   "id": "16974a4d-9632-4477-82af-43bab4787383",
   "metadata": {},
   "outputs": [],
   "source": []
  }
 ],
 "metadata": {
  "kernelspec": {
   "display_name": "Python 3 (ipykernel)",
   "language": "python",
   "name": "python3"
  },
  "language_info": {
   "codemirror_mode": {
    "name": "ipython",
    "version": 3
   },
   "file_extension": ".py",
   "mimetype": "text/x-python",
   "name": "python",
   "nbconvert_exporter": "python",
   "pygments_lexer": "ipython3",
   "version": "3.9.7"
  }
 },
 "nbformat": 4,
 "nbformat_minor": 5
}
