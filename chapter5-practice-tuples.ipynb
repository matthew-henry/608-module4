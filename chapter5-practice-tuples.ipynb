{
 "cells": [
  {
   "cell_type": "code",
   "execution_count": 1,
   "id": "58d28755-bff2-4afd-858a-1da92a7eb24f",
   "metadata": {},
   "outputs": [],
   "source": [
    "student_tuple = ('John', 'Green', 3.3)\n"
   ]
  },
  {
   "cell_type": "code",
   "execution_count": 2,
   "id": "20bdce86-fab3-4817-af75-c908afcbe01a",
   "metadata": {},
   "outputs": [
    {
     "data": {
      "text/plain": [
       "'Green'"
      ]
     },
     "execution_count": 2,
     "metadata": {},
     "output_type": "execute_result"
    }
   ],
   "source": [
    "student_tuple[1]"
   ]
  },
  {
   "cell_type": "code",
   "execution_count": 4,
   "id": "cc88c348-f428-4f46-bf48-b6b8db43b55a",
   "metadata": {},
   "outputs": [],
   "source": [
    "student_tuple += (18,)"
   ]
  },
  {
   "cell_type": "code",
   "execution_count": 8,
   "id": "e35109aa-c012-4bce-abef-35fa435b3510",
   "metadata": {},
   "outputs": [
    {
     "data": {
      "text/plain": [
       "('John', 'Green', 3.3, 18)"
      ]
     },
     "execution_count": 8,
     "metadata": {},
     "output_type": "execute_result"
    }
   ],
   "source": [
    "student_tuple"
   ]
  },
  {
   "cell_type": "code",
   "execution_count": null,
   "id": "dfc51d9b-2694-40c3-b8d8-92e6b694f843",
   "metadata": {},
   "outputs": [],
   "source": [
    "single = (123.45,)"
   ]
  },
  {
   "cell_type": "code",
   "execution_count": 10,
   "id": "e027d5b0-960e-4a37-ac10-5f059dc3e6b3",
   "metadata": {},
   "outputs": [
    {
     "data": {
      "text/plain": [
       "(123.45,)"
      ]
     },
     "execution_count": 10,
     "metadata": {},
     "output_type": "execute_result"
    }
   ],
   "source": [
    "single"
   ]
  },
  {
   "cell_type": "code",
   "execution_count": 6,
   "id": "17dfd4f5-dbd0-48e2-b405-c5ad70711435",
   "metadata": {},
   "outputs": [],
   "source": [
    "grades = [90, 70, 80]"
   ]
  },
  {
   "cell_type": "code",
   "execution_count": 7,
   "id": "0bafe58b-fd29-4c27-a037-90cb0819f352",
   "metadata": {},
   "outputs": [],
   "source": [
    "new_student_tuple = ('John', 'Green', grades)"
   ]
  },
  {
   "cell_type": "code",
   "execution_count": 11,
   "id": "2f6a1eae-af5d-4bd3-af60-957a38fe1f21",
   "metadata": {},
   "outputs": [
    {
     "ename": "TypeError",
     "evalue": "can only concatenate list (not \"tuple\") to list",
     "output_type": "error",
     "traceback": [
      "\u001b[1;31m---------------------------------------------------------------------------\u001b[0m",
      "\u001b[1;31mTypeError\u001b[0m                                 Traceback (most recent call last)",
      "\u001b[1;32m~\\AppData\\Local\\Temp/ipykernel_47060/2673585317.py\u001b[0m in \u001b[0;36m<module>\u001b[1;34m\u001b[0m\n\u001b[0;32m      1\u001b[0m \u001b[1;31m#this line will error, self check 4\u001b[0m\u001b[1;33m\u001b[0m\u001b[1;33m\u001b[0m\u001b[0m\n\u001b[1;32m----> 2\u001b[1;33m \u001b[1;33m[\u001b[0m\u001b[1;36m1\u001b[0m\u001b[1;33m,\u001b[0m\u001b[1;36m2\u001b[0m\u001b[1;33m,\u001b[0m\u001b[1;36m3\u001b[0m\u001b[1;33m]\u001b[0m\u001b[1;33m+\u001b[0m\u001b[1;33m(\u001b[0m\u001b[1;36m4\u001b[0m\u001b[1;33m,\u001b[0m\u001b[1;36m5\u001b[0m\u001b[1;33m,\u001b[0m\u001b[1;36m6\u001b[0m\u001b[1;33m)\u001b[0m\u001b[1;33m\u001b[0m\u001b[1;33m\u001b[0m\u001b[0m\n\u001b[0m",
      "\u001b[1;31mTypeError\u001b[0m: can only concatenate list (not \"tuple\") to list"
     ]
    }
   ],
   "source": [
    "#this line will error, self check 4\n",
    "[1,2,3]+(4,5,6)"
   ]
  },
  {
   "cell_type": "code",
   "execution_count": 15,
   "id": "3235cea7-0e29-4f66-bc7e-0b0600b80703",
   "metadata": {},
   "outputs": [],
   "source": [
    "first_name, last_name, tuple_grades = new_student_tuple"
   ]
  },
  {
   "cell_type": "code",
   "execution_count": 13,
   "id": "06d86545-b0c0-42e4-9119-4cf4130e226a",
   "metadata": {},
   "outputs": [
    {
     "data": {
      "text/plain": [
       "'John'"
      ]
     },
     "execution_count": 13,
     "metadata": {},
     "output_type": "execute_result"
    }
   ],
   "source": [
    "first_name"
   ]
  },
  {
   "cell_type": "code",
   "execution_count": 16,
   "id": "03deaf8d-51d2-4614-a593-4d276a406daf",
   "metadata": {},
   "outputs": [
    {
     "data": {
      "text/plain": [
       "[90, 70, 80]"
      ]
     },
     "execution_count": 16,
     "metadata": {},
     "output_type": "execute_result"
    }
   ],
   "source": [
    "tuple_grades"
   ]
  },
  {
   "cell_type": "code",
   "execution_count": 17,
   "id": "d3bd312c-f706-45f7-abba-3f7409d714f5",
   "metadata": {},
   "outputs": [
    {
     "name": "stdout",
     "output_type": "stream",
     "text": [
      "0: red\n",
      "1: green\n",
      "2: blue\n",
      "3: purple\n"
     ]
    }
   ],
   "source": [
    "colors = ['red', 'green', 'blue', 'purple']\n",
    "\n",
    "for index, value in enumerate(colors):\n",
    "    print(f'{index}: {value}')"
   ]
  },
  {
   "cell_type": "code",
   "execution_count": 18,
   "id": "dd3eb382-ee93-4f27-9183-40d1508ea95e",
   "metadata": {},
   "outputs": [
    {
     "name": "stdout",
     "output_type": "stream",
     "text": [
      "\n",
      "Creating a bar chart from numbers:\n",
      "Index   value    Bar\n",
      "    0      19    *******************\n",
      "    1       3    ***\n",
      "    2      15    ***************\n",
      "    3       7    *******\n",
      "    4      11    ***********\n"
     ]
    }
   ],
   "source": [
    "numbers = [19,3,15,7,11]\n",
    "print('\\nCreating a bar chart from numbers:')\n",
    "print(f'Index{\"value\":>8}    Bar')\n",
    "\n",
    "for index, value in enumerate(numbers):\n",
    "    print(f'{index:>5}{value:>8}    {\"*\" * value}')"
   ]
  },
  {
   "cell_type": "code",
   "execution_count": null,
   "id": "5a573307-2483-4b95-ac22-01a3156bf17a",
   "metadata": {},
   "outputs": [],
   "source": []
  }
 ],
 "metadata": {
  "kernelspec": {
   "display_name": "Python 3 (ipykernel)",
   "language": "python",
   "name": "python3"
  },
  "language_info": {
   "codemirror_mode": {
    "name": "ipython",
    "version": 3
   },
   "file_extension": ".py",
   "mimetype": "text/x-python",
   "name": "python",
   "nbconvert_exporter": "python",
   "pygments_lexer": "ipython3",
   "version": "3.9.7"
  }
 },
 "nbformat": 4,
 "nbformat_minor": 5
}
