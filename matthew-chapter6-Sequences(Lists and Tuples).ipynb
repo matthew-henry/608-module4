{
 "cells": [
  {
   "cell_type": "code",
   "execution_count": 1,
   "id": "7dc341c5-4646-4db1-b0c0-dd1da0d77a64",
   "metadata": {},
   "outputs": [],
   "source": [
    "numbers = [2,3,5,7,11,13,17,19]"
   ]
  },
  {
   "cell_type": "code",
   "execution_count": 2,
   "id": "8d68ed26-7bef-4a31-9496-6e9627d8c8a1",
   "metadata": {},
   "outputs": [
    {
     "data": {
      "text/plain": [
       "[5, 7, 11, 13]"
      ]
     },
     "execution_count": 2,
     "metadata": {},
     "output_type": "execute_result"
    }
   ],
   "source": [
    "numbers[2:6]"
   ]
  },
  {
   "cell_type": "code",
   "execution_count": 3,
   "id": "7bace766-1555-45be-8a21-ff74d0403aba",
   "metadata": {},
   "outputs": [
    {
     "name": "stdout",
     "output_type": "stream",
     "text": [
      "[2, 3, 5, 7, 11, 13]\n",
      "[2, 3, 5, 7, 11, 13]\n"
     ]
    }
   ],
   "source": [
    "print(numbers[:6])\n",
    "print(numbers[0:6])"
   ]
  },
  {
   "cell_type": "code",
   "execution_count": 5,
   "id": "5f4dfabc-414d-41db-9860-bb39e205c4f9",
   "metadata": {},
   "outputs": [
    {
     "name": "stdout",
     "output_type": "stream",
     "text": [
      "[17, 19]\n",
      "[17, 19]\n"
     ]
    }
   ],
   "source": [
    "print(numbers[6:])\n",
    "print(numbers[6:len(numbers)])"
   ]
  },
  {
   "cell_type": "code",
   "execution_count": 6,
   "id": "7da45b88-c8a5-4a25-a267-eb372046ace9",
   "metadata": {},
   "outputs": [
    {
     "data": {
      "text/plain": [
       "[2, 3, 5, 7, 11, 13, 17, 19]"
      ]
     },
     "execution_count": 6,
     "metadata": {},
     "output_type": "execute_result"
    }
   ],
   "source": [
    "numbers[:]"
   ]
  },
  {
   "cell_type": "code",
   "execution_count": 7,
   "id": "12097128-71f9-439d-b1dc-9ff93d8289f0",
   "metadata": {},
   "outputs": [
    {
     "data": {
      "text/plain": [
       "[2, 5, 11, 17]"
      ]
     },
     "execution_count": 7,
     "metadata": {},
     "output_type": "execute_result"
    }
   ],
   "source": [
    "numbers[::2]"
   ]
  },
  {
   "cell_type": "code",
   "execution_count": 8,
   "id": "ae7274dc-a375-4272-ab5b-3c1644e8218f",
   "metadata": {},
   "outputs": [
    {
     "data": {
      "text/plain": [
       "[19, 17, 13, 11, 7, 5, 3, 2]"
      ]
     },
     "execution_count": 8,
     "metadata": {},
     "output_type": "execute_result"
    }
   ],
   "source": [
    "numbers[::-1]"
   ]
  },
  {
   "cell_type": "code",
   "execution_count": 9,
   "id": "8c00afd1-3720-4885-a7c4-918294da04b3",
   "metadata": {},
   "outputs": [
    {
     "data": {
      "text/plain": [
       "[19, 17, 13, 11, 7, 5, 3, 2]"
      ]
     },
     "execution_count": 9,
     "metadata": {},
     "output_type": "execute_result"
    }
   ],
   "source": [
    "numbers[-1:-9:-1]"
   ]
  },
  {
   "cell_type": "code",
   "execution_count": 10,
   "id": "acca4f4c-6f6c-4cad-b72b-e45689477b00",
   "metadata": {},
   "outputs": [],
   "source": [
    "numbers[0:3] = ['two', 'three', 'five']"
   ]
  },
  {
   "cell_type": "code",
   "execution_count": 11,
   "id": "28e9e3c8-9616-4d80-9e39-e2925b82b549",
   "metadata": {},
   "outputs": [
    {
     "data": {
      "text/plain": [
       "['two', 'three', 'five', 7, 11, 13, 17, 19]"
      ]
     },
     "execution_count": 11,
     "metadata": {},
     "output_type": "execute_result"
    }
   ],
   "source": [
    "numbers"
   ]
  },
  {
   "cell_type": "code",
   "execution_count": 12,
   "id": "2d4f90a4-128a-4275-a0e3-61d6afec26f3",
   "metadata": {},
   "outputs": [],
   "source": [
    "numbers[0:3] = []"
   ]
  },
  {
   "cell_type": "code",
   "execution_count": 13,
   "id": "f98a92ef-edf6-4bce-9639-b457ee5a2e08",
   "metadata": {},
   "outputs": [
    {
     "data": {
      "text/plain": [
       "[7, 11, 13, 17, 19]"
      ]
     },
     "execution_count": 13,
     "metadata": {},
     "output_type": "execute_result"
    }
   ],
   "source": [
    "numbers"
   ]
  },
  {
   "cell_type": "code",
   "execution_count": 14,
   "id": "8ee5ad23-ddd8-4889-b4cf-511f5c97a966",
   "metadata": {},
   "outputs": [],
   "source": [
    "numbers = [2,3,5,7,11,13,17,19]"
   ]
  },
  {
   "cell_type": "code",
   "execution_count": 15,
   "id": "04304f88-3886-4582-9fe5-15f17f5cf11b",
   "metadata": {},
   "outputs": [],
   "source": [
    "numbers[::2] = [100] * 4"
   ]
  },
  {
   "cell_type": "code",
   "execution_count": 16,
   "id": "22a0dc7c-1b54-4447-895d-7edf66303241",
   "metadata": {},
   "outputs": [
    {
     "data": {
      "text/plain": [
       "[100, 3, 100, 7, 100, 13, 100, 19]"
      ]
     },
     "execution_count": 16,
     "metadata": {},
     "output_type": "execute_result"
    }
   ],
   "source": [
    "numbers"
   ]
  },
  {
   "cell_type": "code",
   "execution_count": 17,
   "id": "d5f1c288-7e1c-4c64-9295-c76251e25827",
   "metadata": {},
   "outputs": [
    {
     "data": {
      "text/plain": [
       "2009975018304"
      ]
     },
     "execution_count": 17,
     "metadata": {},
     "output_type": "execute_result"
    }
   ],
   "source": [
    "id(numbers)"
   ]
  },
  {
   "cell_type": "code",
   "execution_count": 18,
   "id": "b0a08382-6701-44ab-b399-bace65cf6c06",
   "metadata": {},
   "outputs": [],
   "source": [
    "numbers[:] = []"
   ]
  },
  {
   "cell_type": "code",
   "execution_count": 19,
   "id": "691ca248-51da-407f-b180-e3f12520cbd4",
   "metadata": {},
   "outputs": [
    {
     "data": {
      "text/plain": [
       "[]"
      ]
     },
     "execution_count": 19,
     "metadata": {},
     "output_type": "execute_result"
    }
   ],
   "source": [
    "numbers"
   ]
  },
  {
   "cell_type": "code",
   "execution_count": 20,
   "id": "d515b868-3864-4404-bfcb-b6d5d26a5760",
   "metadata": {},
   "outputs": [
    {
     "data": {
      "text/plain": [
       "2009975018304"
      ]
     },
     "execution_count": 20,
     "metadata": {},
     "output_type": "execute_result"
    }
   ],
   "source": [
    "id(numbers)"
   ]
  },
  {
   "cell_type": "code",
   "execution_count": 27,
   "id": "2158a9f4-8b4e-456d-a4d5-d35b4066c409",
   "metadata": {},
   "outputs": [],
   "source": [
    "numbers = [i for i in range(1, 16)]"
   ]
  },
  {
   "cell_type": "code",
   "execution_count": 28,
   "id": "8cae18f2-2c39-426c-9c4e-cea25818c766",
   "metadata": {},
   "outputs": [
    {
     "data": {
      "text/plain": [
       "[1, 2, 3, 4, 5, 6, 7, 8, 9, 10, 11, 12, 13, 14, 15]"
      ]
     },
     "execution_count": 28,
     "metadata": {},
     "output_type": "execute_result"
    }
   ],
   "source": [
    "numbers"
   ]
  },
  {
   "cell_type": "code",
   "execution_count": 30,
   "id": "60ef5426-39cc-4033-a09c-f44e3a19040f",
   "metadata": {},
   "outputs": [
    {
     "data": {
      "text/plain": [
       "[2, 4, 6, 8, 10, 12, 14]"
      ]
     },
     "execution_count": 30,
     "metadata": {},
     "output_type": "execute_result"
    }
   ],
   "source": [
    "numbers[1:len(numbers):2]"
   ]
  },
  {
   "cell_type": "code",
   "execution_count": 31,
   "id": "db4aa1d7-71c9-44eb-9f31-95d0fd065a52",
   "metadata": {},
   "outputs": [],
   "source": [
    "numbers[5:10] = [0] * len(numbers[5:10])"
   ]
  },
  {
   "cell_type": "code",
   "execution_count": 32,
   "id": "71336144-3375-456a-84f5-c03350ad2b0c",
   "metadata": {},
   "outputs": [
    {
     "data": {
      "text/plain": [
       "[1, 2, 3, 4, 5, 0, 0, 0, 0, 0, 11, 12, 13, 14, 15]"
      ]
     },
     "execution_count": 32,
     "metadata": {},
     "output_type": "execute_result"
    }
   ],
   "source": [
    "numbers"
   ]
  },
  {
   "cell_type": "code",
   "execution_count": 33,
   "id": "01e22fe8-ea16-476d-ab09-3582e5262218",
   "metadata": {},
   "outputs": [],
   "source": [
    "numbers[5:] =[]"
   ]
  },
  {
   "cell_type": "code",
   "execution_count": 34,
   "id": "61dc2bc9-e41c-4d73-958a-8460fb5b4e36",
   "metadata": {},
   "outputs": [
    {
     "data": {
      "text/plain": [
       "[1, 2, 3, 4, 5]"
      ]
     },
     "execution_count": 34,
     "metadata": {},
     "output_type": "execute_result"
    }
   ],
   "source": [
    "numbers"
   ]
  },
  {
   "cell_type": "code",
   "execution_count": 35,
   "id": "392b21f7-a72d-4535-b74e-252c9084cc98",
   "metadata": {},
   "outputs": [],
   "source": [
    "numbers[:] = []"
   ]
  },
  {
   "cell_type": "code",
   "execution_count": 36,
   "id": "640b3ea3-c827-4f2e-b0cf-0507cfc8bb46",
   "metadata": {},
   "outputs": [
    {
     "data": {
      "text/plain": [
       "[]"
      ]
     },
     "execution_count": 36,
     "metadata": {},
     "output_type": "execute_result"
    }
   ],
   "source": [
    "numbers"
   ]
  },
  {
   "cell_type": "code",
   "execution_count": 37,
   "id": "55599b40-d2e6-480a-bd67-e94354618c52",
   "metadata": {},
   "outputs": [],
   "source": [
    "numbers = list(range(1, 16))"
   ]
  },
  {
   "cell_type": "code",
   "execution_count": 38,
   "id": "5f3d4021-8c49-4a34-ad56-28362a72aa3c",
   "metadata": {},
   "outputs": [
    {
     "data": {
      "text/plain": [
       "[1, 2, 3, 4, 5, 6, 7, 8, 9, 10, 11, 12, 13, 14, 15]"
      ]
     },
     "execution_count": 38,
     "metadata": {},
     "output_type": "execute_result"
    }
   ],
   "source": [
    "numbers"
   ]
  },
  {
   "cell_type": "code",
   "execution_count": 39,
   "id": "a6851438-c1f8-44ed-8e44-c6258160e0f9",
   "metadata": {},
   "outputs": [],
   "source": [
    "del numbers[0:4]"
   ]
  },
  {
   "cell_type": "code",
   "execution_count": 40,
   "id": "73359a34-2cd5-496d-8e82-a8ff4b82e297",
   "metadata": {},
   "outputs": [
    {
     "data": {
      "text/plain": [
       "[5, 6, 7, 8, 9, 10, 11, 12, 13, 14, 15]"
      ]
     },
     "execution_count": 40,
     "metadata": {},
     "output_type": "execute_result"
    }
   ],
   "source": [
    "numbers"
   ]
  },
  {
   "cell_type": "code",
   "execution_count": 41,
   "id": "507f4ba1-d410-45d2-845e-945cc46eb40a",
   "metadata": {},
   "outputs": [],
   "source": [
    "del numbers[::2]"
   ]
  },
  {
   "cell_type": "code",
   "execution_count": 42,
   "id": "e329c3c2-e923-47d6-bc91-5886e4388d7d",
   "metadata": {},
   "outputs": [
    {
     "data": {
      "text/plain": [
       "[6, 8, 10, 12, 14]"
      ]
     },
     "execution_count": 42,
     "metadata": {},
     "output_type": "execute_result"
    }
   ],
   "source": [
    "numbers"
   ]
  },
  {
   "cell_type": "code",
   "execution_count": 44,
   "id": "fc4ea3b7-4daf-4fe1-8ed3-2103d9497a95",
   "metadata": {},
   "outputs": [],
   "source": [
    "def modify_elements(items):\n",
    "    \"\"\"Multiplies all element values in tiems by 2.\"\"\"\n",
    "    for i in range(len(items)):\n",
    "        items[i] *= 2\n",
    "        "
   ]
  },
  {
   "cell_type": "code",
   "execution_count": 45,
   "id": "c58c2e56-4389-4aa1-bc8c-e59875f497a0",
   "metadata": {},
   "outputs": [],
   "source": [
    "numbers=[10,3,7,1,9]"
   ]
  },
  {
   "cell_type": "code",
   "execution_count": 46,
   "id": "2ab4687c-1ebc-4c3c-a91e-0a0faaf3d60e",
   "metadata": {},
   "outputs": [],
   "source": [
    "modify_elements(numbers)"
   ]
  },
  {
   "cell_type": "code",
   "execution_count": 47,
   "id": "789f16af-9dc6-4953-8068-776e49c7859c",
   "metadata": {},
   "outputs": [
    {
     "data": {
      "text/plain": [
       "[20, 6, 14, 2, 18]"
      ]
     },
     "execution_count": 47,
     "metadata": {},
     "output_type": "execute_result"
    }
   ],
   "source": [
    "numbers"
   ]
  },
  {
   "cell_type": "code",
   "execution_count": 48,
   "id": "21be5445-89b2-434e-b425-5682a416d1dd",
   "metadata": {},
   "outputs": [],
   "source": [
    "numbers_tuple = (10,20,30)"
   ]
  },
  {
   "cell_type": "code",
   "execution_count": 49,
   "id": "9cb8dff2-4c50-404d-9a50-09927ed66c17",
   "metadata": {},
   "outputs": [
    {
     "ename": "TypeError",
     "evalue": "'tuple' object does not support item assignment",
     "output_type": "error",
     "traceback": [
      "\u001b[1;31m---------------------------------------------------------------------------\u001b[0m",
      "\u001b[1;31mTypeError\u001b[0m                                 Traceback (most recent call last)",
      "\u001b[1;32m~\\AppData\\Local\\Temp/ipykernel_42176/1007858446.py\u001b[0m in \u001b[0;36m<module>\u001b[1;34m\u001b[0m\n\u001b[1;32m----> 1\u001b[1;33m \u001b[0mmodify_elements\u001b[0m\u001b[1;33m(\u001b[0m\u001b[0mnumbers_tuple\u001b[0m\u001b[1;33m)\u001b[0m \u001b[1;31m# will error as tuples are immutable\u001b[0m\u001b[1;33m\u001b[0m\u001b[1;33m\u001b[0m\u001b[0m\n\u001b[0m",
      "\u001b[1;32m~\\AppData\\Local\\Temp/ipykernel_42176/2773346482.py\u001b[0m in \u001b[0;36mmodify_elements\u001b[1;34m(items)\u001b[0m\n\u001b[0;32m      2\u001b[0m     \u001b[1;34m\"\"\"Multiplies all element values in tiems by 2.\"\"\"\u001b[0m\u001b[1;33m\u001b[0m\u001b[1;33m\u001b[0m\u001b[0m\n\u001b[0;32m      3\u001b[0m     \u001b[1;32mfor\u001b[0m \u001b[0mi\u001b[0m \u001b[1;32min\u001b[0m \u001b[0mrange\u001b[0m\u001b[1;33m(\u001b[0m\u001b[0mlen\u001b[0m\u001b[1;33m(\u001b[0m\u001b[0mitems\u001b[0m\u001b[1;33m)\u001b[0m\u001b[1;33m)\u001b[0m\u001b[1;33m:\u001b[0m\u001b[1;33m\u001b[0m\u001b[1;33m\u001b[0m\u001b[0m\n\u001b[1;32m----> 4\u001b[1;33m         \u001b[0mitems\u001b[0m\u001b[1;33m[\u001b[0m\u001b[0mi\u001b[0m\u001b[1;33m]\u001b[0m \u001b[1;33m*=\u001b[0m \u001b[1;36m2\u001b[0m\u001b[1;33m\u001b[0m\u001b[1;33m\u001b[0m\u001b[0m\n\u001b[0m\u001b[0;32m      5\u001b[0m \u001b[1;33m\u001b[0m\u001b[0m\n",
      "\u001b[1;31mTypeError\u001b[0m: 'tuple' object does not support item assignment"
     ]
    }
   ],
   "source": [
    "modify_elements(numbers_tuple) # will error as tuples are immutable"
   ]
  },
  {
   "cell_type": "code",
   "execution_count": 50,
   "id": "eec59843-ee93-42e5-8b96-93e633da27a7",
   "metadata": {},
   "outputs": [],
   "source": [
    "numbers = [10,3,7,1,9,4,2,8,5,6]"
   ]
  },
  {
   "cell_type": "code",
   "execution_count": 51,
   "id": "576ffc48-7a3a-404a-9ab5-725e2b08c0c6",
   "metadata": {},
   "outputs": [],
   "source": [
    "numbers.sort()"
   ]
  },
  {
   "cell_type": "code",
   "execution_count": 52,
   "id": "45bcdee4-c13e-441c-a759-c2fa5cd33fcf",
   "metadata": {},
   "outputs": [
    {
     "data": {
      "text/plain": [
       "[1, 2, 3, 4, 5, 6, 7, 8, 9, 10]"
      ]
     },
     "execution_count": 52,
     "metadata": {},
     "output_type": "execute_result"
    }
   ],
   "source": [
    "numbers"
   ]
  },
  {
   "cell_type": "code",
   "execution_count": 53,
   "id": "4079bcf4-a4dc-4758-afe6-6b8cf1c505fb",
   "metadata": {},
   "outputs": [],
   "source": [
    "numbers.sort(reverse = True)"
   ]
  },
  {
   "cell_type": "code",
   "execution_count": 54,
   "id": "5ee5921d-4108-4ade-80d3-d68158216fe0",
   "metadata": {},
   "outputs": [
    {
     "data": {
      "text/plain": [
       "[10, 9, 8, 7, 6, 5, 4, 3, 2, 1]"
      ]
     },
     "execution_count": 54,
     "metadata": {},
     "output_type": "execute_result"
    }
   ],
   "source": [
    "numbers"
   ]
  },
  {
   "cell_type": "code",
   "execution_count": 55,
   "id": "4c744c5f-75e8-4ead-a587-ca12e8e81ac9",
   "metadata": {},
   "outputs": [],
   "source": [
    "numbers = [10,3,7,1,9,4,2,8,5,6]"
   ]
  },
  {
   "cell_type": "code",
   "execution_count": 56,
   "id": "3d076c5e-481a-4a1c-83d7-8c5749ddefd6",
   "metadata": {},
   "outputs": [],
   "source": [
    "ascending_numbers = sorted(numbers)"
   ]
  },
  {
   "cell_type": "code",
   "execution_count": 57,
   "id": "e1d8fbe1-620d-459b-9af8-04b57bed4018",
   "metadata": {},
   "outputs": [
    {
     "data": {
      "text/plain": [
       "[1, 2, 3, 4, 5, 6, 7, 8, 9, 10]"
      ]
     },
     "execution_count": 57,
     "metadata": {},
     "output_type": "execute_result"
    }
   ],
   "source": [
    "ascending_numbers"
   ]
  },
  {
   "cell_type": "code",
   "execution_count": 58,
   "id": "81c01685-a5ea-49ed-9b7f-e475feb5f6ad",
   "metadata": {},
   "outputs": [
    {
     "data": {
      "text/plain": [
       "[10, 3, 7, 1, 9, 4, 2, 8, 5, 6]"
      ]
     },
     "execution_count": 58,
     "metadata": {},
     "output_type": "execute_result"
    }
   ],
   "source": [
    "numbers"
   ]
  },
  {
   "cell_type": "code",
   "execution_count": 59,
   "id": "e80f87b0-f439-42e7-aaf1-20d7beaf0ff6",
   "metadata": {},
   "outputs": [],
   "source": [
    "letters = \"fadgchjebi\""
   ]
  },
  {
   "cell_type": "code",
   "execution_count": 60,
   "id": "3edd9e1d-d62d-4714-a399-7d740af7d3f3",
   "metadata": {},
   "outputs": [],
   "source": [
    "ascending_letters = sorted(letters)"
   ]
  },
  {
   "cell_type": "code",
   "execution_count": 61,
   "id": "e35f88b4-39d8-4e55-8f21-b5944c2a9251",
   "metadata": {},
   "outputs": [
    {
     "data": {
      "text/plain": [
       "['a', 'b', 'c', 'd', 'e', 'f', 'g', 'h', 'i', 'j']"
      ]
     },
     "execution_count": 61,
     "metadata": {},
     "output_type": "execute_result"
    }
   ],
   "source": [
    "ascending_letters"
   ]
  },
  {
   "cell_type": "code",
   "execution_count": 62,
   "id": "2955b4bc-1cb5-4ec6-ab05-60b421272e6a",
   "metadata": {},
   "outputs": [
    {
     "data": {
      "text/plain": [
       "'fadgchjebi'"
      ]
     },
     "execution_count": 62,
     "metadata": {},
     "output_type": "execute_result"
    }
   ],
   "source": [
    "letters"
   ]
  },
  {
   "cell_type": "code",
   "execution_count": 63,
   "id": "1350b3e3-130e-4e49-886e-c0bfbb70901d",
   "metadata": {},
   "outputs": [],
   "source": [
    "colors = ['blue', 'green', 'orange', 'red', 'yellow']"
   ]
  },
  {
   "cell_type": "code",
   "execution_count": 64,
   "id": "37e7bd0e-a142-4c83-842f-9d4701a9368c",
   "metadata": {},
   "outputs": [],
   "source": [
    "ascending_colors = sorted(colors)"
   ]
  },
  {
   "cell_type": "code",
   "execution_count": 65,
   "id": "3fa90ca0-c706-49cc-b51c-99401e07d7c1",
   "metadata": {},
   "outputs": [
    {
     "data": {
      "text/plain": [
       "['blue', 'green', 'orange', 'red', 'yellow']"
      ]
     },
     "execution_count": 65,
     "metadata": {},
     "output_type": "execute_result"
    }
   ],
   "source": [
    "ascending_colors"
   ]
  },
  {
   "cell_type": "code",
   "execution_count": 66,
   "id": "f77bf068-c975-4957-8846-c80a39adc3d1",
   "metadata": {},
   "outputs": [
    {
     "data": {
      "text/plain": [
       "['blue', 'green', 'orange', 'red', 'yellow']"
      ]
     },
     "execution_count": 66,
     "metadata": {},
     "output_type": "execute_result"
    }
   ],
   "source": [
    "colors"
   ]
  },
  {
   "cell_type": "code",
   "execution_count": 67,
   "id": "488e734f-f025-49ef-91df-f2096fd0697a",
   "metadata": {},
   "outputs": [
    {
     "name": "stdout",
     "output_type": "stream",
     "text": [
      "['yellow', 'red', 'orange', 'green', 'blue']\n"
     ]
    }
   ],
   "source": [
    "print(sorted(colors, reverse = True))"
   ]
  },
  {
   "cell_type": "code",
   "execution_count": 68,
   "id": "91c1b6ca-73a2-486b-a6e7-645ccd979c6f",
   "metadata": {},
   "outputs": [],
   "source": [
    "foods = ['Cookies', 'pizza', 'Grapes', 'apples', 'steak', 'Bacon']"
   ]
  },
  {
   "cell_type": "code",
   "execution_count": 69,
   "id": "1f6feafb-6c5a-41b3-b29b-781def940f63",
   "metadata": {},
   "outputs": [],
   "source": [
    "foods.sort()"
   ]
  },
  {
   "cell_type": "code",
   "execution_count": 70,
   "id": "50a14649-ca24-4b7c-98e1-47e4e06438f9",
   "metadata": {},
   "outputs": [
    {
     "data": {
      "text/plain": [
       "['Bacon', 'Cookies', 'Grapes', 'apples', 'pizza', 'steak']"
      ]
     },
     "execution_count": 70,
     "metadata": {},
     "output_type": "execute_result"
    }
   ],
   "source": [
    "foods"
   ]
  },
  {
   "cell_type": "code",
   "execution_count": 71,
   "id": "104b60aa-a122-43df-b7f0-3586baf62fbc",
   "metadata": {},
   "outputs": [],
   "source": [
    "numbers = [3,7,1,4,2,8,5,6]"
   ]
  },
  {
   "cell_type": "code",
   "execution_count": 73,
   "id": "7265e63d-edeb-4d50-b6c6-46c6b8ca1533",
   "metadata": {},
   "outputs": [
    {
     "data": {
      "text/plain": [
       "6"
      ]
     },
     "execution_count": 73,
     "metadata": {},
     "output_type": "execute_result"
    }
   ],
   "source": [
    "numbers.index(5)"
   ]
  },
  {
   "cell_type": "code",
   "execution_count": 74,
   "id": "c9be0afc-32e4-465a-94a0-1c0bcc620161",
   "metadata": {},
   "outputs": [],
   "source": [
    "numbers *= 2"
   ]
  },
  {
   "cell_type": "code",
   "execution_count": 75,
   "id": "06897875-38ca-4928-8353-e66104aee71a",
   "metadata": {},
   "outputs": [
    {
     "data": {
      "text/plain": [
       "[3, 7, 1, 4, 2, 8, 5, 6, 3, 7, 1, 4, 2, 8, 5, 6]"
      ]
     },
     "execution_count": 75,
     "metadata": {},
     "output_type": "execute_result"
    }
   ],
   "source": [
    "numbers"
   ]
  },
  {
   "cell_type": "code",
   "execution_count": 76,
   "id": "1d05d37b-88cc-4630-b4e6-7b3a88f7fe71",
   "metadata": {},
   "outputs": [
    {
     "data": {
      "text/plain": [
       "14"
      ]
     },
     "execution_count": 76,
     "metadata": {},
     "output_type": "execute_result"
    }
   ],
   "source": [
    "numbers.index(5, 7)"
   ]
  },
  {
   "cell_type": "code",
   "execution_count": 77,
   "id": "e74eeb01-1ede-43b2-8631-d944db9df4bc",
   "metadata": {},
   "outputs": [
    {
     "data": {
      "text/plain": [
       "1"
      ]
     },
     "execution_count": 77,
     "metadata": {},
     "output_type": "execute_result"
    }
   ],
   "source": [
    "numbers.index(7,0,4)"
   ]
  },
  {
   "cell_type": "code",
   "execution_count": 78,
   "id": "3fe6d73d-fa22-4538-b7c5-64a8f7cde50b",
   "metadata": {},
   "outputs": [
    {
     "data": {
      "text/plain": [
       "False"
      ]
     },
     "execution_count": 78,
     "metadata": {},
     "output_type": "execute_result"
    }
   ],
   "source": [
    "1000 in numbers"
   ]
  },
  {
   "cell_type": "code",
   "execution_count": 79,
   "id": "bf5240d9-4017-4951-a620-d549e561a94e",
   "metadata": {},
   "outputs": [
    {
     "data": {
      "text/plain": [
       "True"
      ]
     },
     "execution_count": 79,
     "metadata": {},
     "output_type": "execute_result"
    }
   ],
   "source": [
    "5 in numbers"
   ]
  },
  {
   "cell_type": "code",
   "execution_count": 80,
   "id": "eeb3e189-3bf7-4e91-85ef-6daf17869865",
   "metadata": {},
   "outputs": [
    {
     "data": {
      "text/plain": [
       "True"
      ]
     },
     "execution_count": 80,
     "metadata": {},
     "output_type": "execute_result"
    }
   ],
   "source": [
    "1000 not in numbers"
   ]
  },
  {
   "cell_type": "code",
   "execution_count": 81,
   "id": "69051c69-fa62-4b91-bbcd-1e122d044b68",
   "metadata": {},
   "outputs": [
    {
     "data": {
      "text/plain": [
       "False"
      ]
     },
     "execution_count": 81,
     "metadata": {},
     "output_type": "execute_result"
    }
   ],
   "source": [
    "5 not in numbers"
   ]
  },
  {
   "cell_type": "code",
   "execution_count": 82,
   "id": "d9fd5552-c0b7-478b-b90d-bd72b63f7d8f",
   "metadata": {},
   "outputs": [],
   "source": [
    "key = 1000"
   ]
  },
  {
   "cell_type": "code",
   "execution_count": 84,
   "id": "468f1dc5-9a91-4ec5-af3b-0d9cdae249bc",
   "metadata": {},
   "outputs": [
    {
     "name": "stdout",
     "output_type": "stream",
     "text": [
      "1000 not found\n"
     ]
    }
   ],
   "source": [
    "if key in numbers:\n",
    "    print(f'found {key} at index {numbers.index(key)}')\n",
    "else:\n",
    "    print(f'{key} not found')"
   ]
  },
  {
   "cell_type": "code",
   "execution_count": 85,
   "id": "045acc1b-fed2-44f1-b92d-6c933716da09",
   "metadata": {},
   "outputs": [],
   "source": [
    "numbers = [67, 12, 46, 43, 13]"
   ]
  },
  {
   "cell_type": "code",
   "execution_count": 86,
   "id": "1df8634d-6e04-49d7-9e66-aebc850dcf80",
   "metadata": {},
   "outputs": [
    {
     "data": {
      "text/plain": [
       "3"
      ]
     },
     "execution_count": 86,
     "metadata": {},
     "output_type": "execute_result"
    }
   ],
   "source": [
    "numbers.index(43)"
   ]
  },
  {
   "cell_type": "code",
   "execution_count": 88,
   "id": "90001fc1-2952-43c4-be36-b8f2f87cfb56",
   "metadata": {},
   "outputs": [
    {
     "name": "stdout",
     "output_type": "stream",
     "text": [
      "44 not found\n"
     ]
    }
   ],
   "source": [
    "key = 44\n",
    "if 44 in numbers:\n",
    "    print(f'Found 44 at index: {numbers.index(key)}')\n",
    "else:\n",
    "    print(f'{key} not found')"
   ]
  },
  {
   "cell_type": "code",
   "execution_count": 89,
   "id": "aa4d150c-7bcb-47ce-a73c-bff24d8eff05",
   "metadata": {},
   "outputs": [],
   "source": [
    "list1 = []"
   ]
  },
  {
   "cell_type": "code",
   "execution_count": 91,
   "id": "d67fc447-d442-416e-94dd-cbb97ffbc255",
   "metadata": {},
   "outputs": [],
   "source": [
    "for item in range(6):\n",
    "    list1.append(item)"
   ]
  },
  {
   "cell_type": "code",
   "execution_count": 92,
   "id": "080bc40c-cef0-4f14-a075-633a74031b5f",
   "metadata": {},
   "outputs": [
    {
     "data": {
      "text/plain": [
       "[0, 1, 2, 3, 4, 5]"
      ]
     },
     "execution_count": 92,
     "metadata": {},
     "output_type": "execute_result"
    }
   ],
   "source": [
    "list1"
   ]
  },
  {
   "cell_type": "code",
   "execution_count": 93,
   "id": "2da29636-6588-4a7a-b150-d0290409dcb9",
   "metadata": {},
   "outputs": [],
   "source": [
    "list2 = [item for item in range(1,6)]"
   ]
  },
  {
   "cell_type": "code",
   "execution_count": 94,
   "id": "db6408a5-2d88-4b6f-b717-8bb6d32ee823",
   "metadata": {},
   "outputs": [
    {
     "data": {
      "text/plain": [
       "[1, 2, 3, 4, 5]"
      ]
     },
     "execution_count": 94,
     "metadata": {},
     "output_type": "execute_result"
    }
   ],
   "source": [
    "list2"
   ]
  },
  {
   "cell_type": "code",
   "execution_count": 95,
   "id": "f3fb5096-0bb5-4c05-8b51-82964172c3a4",
   "metadata": {},
   "outputs": [],
   "source": [
    "list3 = [item ** 3 for item in range(1,6)]"
   ]
  },
  {
   "cell_type": "code",
   "execution_count": 96,
   "id": "944ecf4c-1f7c-4977-8318-37c8a9d4c0d5",
   "metadata": {},
   "outputs": [
    {
     "data": {
      "text/plain": [
       "[1, 8, 27, 64, 125]"
      ]
     },
     "execution_count": 96,
     "metadata": {},
     "output_type": "execute_result"
    }
   ],
   "source": [
    "list3"
   ]
  },
  {
   "cell_type": "code",
   "execution_count": 97,
   "id": "28c91956-19ac-45fd-8243-06772f55c48e",
   "metadata": {},
   "outputs": [],
   "source": [
    "list4 = [item for item in range(1,11) if item %2 ==0]"
   ]
  },
  {
   "cell_type": "code",
   "execution_count": 98,
   "id": "19281192-bf67-44a3-b468-7e38d82bb82c",
   "metadata": {},
   "outputs": [
    {
     "data": {
      "text/plain": [
       "[2, 4, 6, 8, 10]"
      ]
     },
     "execution_count": 98,
     "metadata": {},
     "output_type": "execute_result"
    }
   ],
   "source": [
    "list4"
   ]
  },
  {
   "cell_type": "code",
   "execution_count": 99,
   "id": "6174a029-b7b5-4e43-a82e-ce5ce34cdd42",
   "metadata": {},
   "outputs": [],
   "source": [
    "colors = ['red', 'orange', 'yellow', 'green', 'blue']"
   ]
  },
  {
   "cell_type": "code",
   "execution_count": 100,
   "id": "a1858d3b-ed9a-45b4-bec1-d54a43f2973d",
   "metadata": {},
   "outputs": [],
   "source": [
    "colors2 = [item.upper() for item in colors]"
   ]
  },
  {
   "cell_type": "code",
   "execution_count": 101,
   "id": "9c0bc383-dac7-4d23-b1d8-0f6448130a45",
   "metadata": {},
   "outputs": [
    {
     "data": {
      "text/plain": [
       "['RED', 'ORANGE', 'YELLOW', 'GREEN', 'BLUE']"
      ]
     },
     "execution_count": 101,
     "metadata": {},
     "output_type": "execute_result"
    }
   ],
   "source": [
    "colors2"
   ]
  },
  {
   "cell_type": "code",
   "execution_count": 102,
   "id": "35d9b232-52e3-4931-a7f0-72c6a59aad56",
   "metadata": {},
   "outputs": [
    {
     "data": {
      "text/plain": [
       "['red', 'orange', 'yellow', 'green', 'blue']"
      ]
     },
     "execution_count": 102,
     "metadata": {},
     "output_type": "execute_result"
    }
   ],
   "source": [
    "colors"
   ]
  },
  {
   "cell_type": "code",
   "execution_count": 103,
   "id": "9f965344-bb30-4440-b0e1-1be5c357ee63",
   "metadata": {},
   "outputs": [],
   "source": [
    "cubes = [(x, x**3) for x in range(1,6)]"
   ]
  },
  {
   "cell_type": "code",
   "execution_count": 104,
   "id": "45d8845c-b415-4f94-974a-76a2e7ea370e",
   "metadata": {},
   "outputs": [
    {
     "data": {
      "text/plain": [
       "[(1, 1), (2, 8), (3, 27), (4, 64), (5, 125)]"
      ]
     },
     "execution_count": 104,
     "metadata": {},
     "output_type": "execute_result"
    }
   ],
   "source": [
    "cubes"
   ]
  },
  {
   "cell_type": "code",
   "execution_count": 105,
   "id": "a26c4554-364f-4706-8a6b-3ad482a069af",
   "metadata": {},
   "outputs": [],
   "source": [
    "multiples = [x for x in range(3, 30, 3)]"
   ]
  },
  {
   "cell_type": "code",
   "execution_count": 106,
   "id": "8a454870-8a9f-47d4-898f-117d0b64e46f",
   "metadata": {},
   "outputs": [
    {
     "data": {
      "text/plain": [
       "[3, 6, 9, 12, 15, 18, 21, 24, 27]"
      ]
     },
     "execution_count": 106,
     "metadata": {},
     "output_type": "execute_result"
    }
   ],
   "source": [
    "multiples"
   ]
  },
  {
   "cell_type": "code",
   "execution_count": 107,
   "id": "33b41792-056a-425e-baf7-4f40f8362040",
   "metadata": {},
   "outputs": [],
   "source": [
    "numbers= [10,3,7,1,9,4,2,8,5,6]"
   ]
  },
  {
   "cell_type": "code",
   "execution_count": 108,
   "id": "cd96a1eb-c73d-4e98-b0ba-f5bbeeefb17a",
   "metadata": {},
   "outputs": [],
   "source": [
    "def is_odd(x):\n",
    "    \"\"\"Returns True only if x is odd.\"\"\"\n",
    "    return x%2 !=0"
   ]
  },
  {
   "cell_type": "code",
   "execution_count": 109,
   "id": "66039a45-5b98-4f3c-a01b-646e86be528e",
   "metadata": {},
   "outputs": [
    {
     "data": {
      "text/plain": [
       "[3, 7, 1, 9, 5]"
      ]
     },
     "execution_count": 109,
     "metadata": {},
     "output_type": "execute_result"
    }
   ],
   "source": [
    "list(filter(is_odd, numbers))"
   ]
  },
  {
   "cell_type": "code",
   "execution_count": 110,
   "id": "38819a4e-327f-48f1-941a-b4bd4cf7a2c4",
   "metadata": {},
   "outputs": [
    {
     "data": {
      "text/plain": [
       "[10, 3, 7, 1, 9, 4, 2, 8, 5, 6]"
      ]
     },
     "execution_count": 110,
     "metadata": {},
     "output_type": "execute_result"
    }
   ],
   "source": [
    "numbers"
   ]
  },
  {
   "cell_type": "code",
   "execution_count": 111,
   "id": "f8ce3e3e-2f96-4764-92b1-59c7481b0985",
   "metadata": {},
   "outputs": [
    {
     "data": {
      "text/plain": [
       "[100, 9, 49, 1, 81, 16, 4, 64, 25, 36]"
      ]
     },
     "execution_count": 111,
     "metadata": {},
     "output_type": "execute_result"
    }
   ],
   "source": [
    "list(map(lambda x: x ** 2, numbers))"
   ]
  },
  {
   "cell_type": "code",
   "execution_count": 112,
   "id": "c8c12e87-a968-4915-8e08-dbd417e97b55",
   "metadata": {},
   "outputs": [
    {
     "data": {
      "text/plain": [
       "[100, 9, 49, 1, 81, 16, 4, 64, 25, 36]"
      ]
     },
     "execution_count": 112,
     "metadata": {},
     "output_type": "execute_result"
    }
   ],
   "source": [
    "[item ** 2 for item in numbers]"
   ]
  },
  {
   "cell_type": "code",
   "execution_count": 114,
   "id": "efd11b76-5ed1-4e20-8f64-80bdb6d500d6",
   "metadata": {},
   "outputs": [
    {
     "data": {
      "text/plain": [
       "[9, 49, 1, 81, 25]"
      ]
     },
     "execution_count": 114,
     "metadata": {},
     "output_type": "execute_result"
    }
   ],
   "source": [
    "list(map(lambda x: x**2, filter(lambda x: x%2 != 0, numbers)))"
   ]
  },
  {
   "cell_type": "code",
   "execution_count": 115,
   "id": "5695ffea-7678-46a1-916c-830ab55700cd",
   "metadata": {},
   "outputs": [],
   "source": [
    "numbers = list(range(1,16))"
   ]
  },
  {
   "cell_type": "code",
   "execution_count": 116,
   "id": "5a8ee32e-3ac9-4d72-a42a-3e31295817bd",
   "metadata": {},
   "outputs": [
    {
     "data": {
      "text/plain": [
       "[1, 2, 3, 4, 5, 6, 7, 8, 9, 10, 11, 12, 13, 14, 15]"
      ]
     },
     "execution_count": 116,
     "metadata": {},
     "output_type": "execute_result"
    }
   ],
   "source": [
    "numbers"
   ]
  },
  {
   "cell_type": "code",
   "execution_count": 117,
   "id": "7e1f98c4-8f45-41a3-b251-d0c91054c708",
   "metadata": {},
   "outputs": [
    {
     "data": {
      "text/plain": [
       "[2, 4, 6, 8, 10, 12, 14]"
      ]
     },
     "execution_count": 117,
     "metadata": {},
     "output_type": "execute_result"
    }
   ],
   "source": [
    "list(filter(lambda x: x%2 ==0, numbers))"
   ]
  },
  {
   "cell_type": "code",
   "execution_count": 118,
   "id": "b6d7e03a-be0a-41ad-8b1e-a73d30352e3e",
   "metadata": {},
   "outputs": [
    {
     "data": {
      "text/plain": [
       "[1, 4, 9, 16, 25, 36, 49, 64, 81, 100, 121, 144, 169, 196, 225]"
      ]
     },
     "execution_count": 118,
     "metadata": {},
     "output_type": "execute_result"
    }
   ],
   "source": [
    "list(map(lambda x: x** 2, numbers))"
   ]
  },
  {
   "cell_type": "code",
   "execution_count": 120,
   "id": "1274a3b2-55c4-464c-9513-c79721b8c97b",
   "metadata": {},
   "outputs": [
    {
     "data": {
      "text/plain": [
       "[4, 16, 36, 64, 100, 144, 196]"
      ]
     },
     "execution_count": 120,
     "metadata": {},
     "output_type": "execute_result"
    }
   ],
   "source": [
    "list(map(lambda x: x**2, filter(lambda x: x%2 == 0, numbers)))"
   ]
  },
  {
   "cell_type": "code",
   "execution_count": 121,
   "id": "f2948022-a4ec-4643-9462-3e0e1a6d30f2",
   "metadata": {},
   "outputs": [],
   "source": [
    "fahrenheit = [41, 32, 212]"
   ]
  },
  {
   "cell_type": "code",
   "execution_count": 122,
   "id": "58e3015a-7acc-4a1d-ba89-defb6523efd6",
   "metadata": {},
   "outputs": [
    {
     "data": {
      "text/plain": [
       "[(41, 5.0), (32, 0.0), (212, 100.0)]"
      ]
     },
     "execution_count": 122,
     "metadata": {},
     "output_type": "execute_result"
    }
   ],
   "source": [
    "list(map(lambda x: (x, (x-32) *5 /9), fahrenheit))"
   ]
  },
  {
   "cell_type": "code",
   "execution_count": 123,
   "id": "842ca6ad-1b64-4215-b2b5-73cd46189cb9",
   "metadata": {},
   "outputs": [],
   "source": [
    "a = [[77,68,86,73],[96,87, 89, 81], [70,90,86,81]]"
   ]
  },
  {
   "cell_type": "code",
   "execution_count": 124,
   "id": "f2916c23-b9ea-4a21-af1f-39062153d01d",
   "metadata": {},
   "outputs": [
    {
     "name": "stdout",
     "output_type": "stream",
     "text": [
      "77 68 86 73 \n",
      "96 87 89 81 \n",
      "70 90 86 81 \n"
     ]
    }
   ],
   "source": [
    "for row in a:\n",
    "    for item in row:\n",
    "        print(item, end = ' ')\n",
    "    print()"
   ]
  },
  {
   "cell_type": "code",
   "execution_count": 130,
   "id": "30405e06-14c0-4711-8a41-7eb983f69e3a",
   "metadata": {},
   "outputs": [
    {
     "name": "stdout",
     "output_type": "stream",
     "text": [
      "a[0][0]=77 a[0][1]=68 a[0][2]=86 a[0][3]=73 \n",
      "a[1][0]=96 a[1][1]=87 a[1][2]=89 a[1][3]=81 \n",
      "a[2][0]=70 a[2][1]=90 a[2][2]=86 a[2][3]=81 \n"
     ]
    }
   ],
   "source": [
    "for i, row in enumerate(a):\n",
    "    for j, item in enumerate(row):\n",
    "        print(f'a[{i}][{j}]={item}', end=' ')\n",
    "    print()"
   ]
  },
  {
   "cell_type": "code",
   "execution_count": 131,
   "id": "edeb217e-7929-4e64-81a6-70a8521f4597",
   "metadata": {},
   "outputs": [],
   "source": [
    "t = [[10,7,3],[20,4,17]]"
   ]
  },
  {
   "cell_type": "code",
   "execution_count": 132,
   "id": "bebed029-cb7c-4ebd-98a6-36348c168541",
   "metadata": {},
   "outputs": [],
   "source": [
    "total = 0"
   ]
  },
  {
   "cell_type": "code",
   "execution_count": 133,
   "id": "5afd6e3a-98c9-47ee-8609-3b067ce39ae0",
   "metadata": {},
   "outputs": [],
   "source": [
    "items = 0"
   ]
  },
  {
   "cell_type": "code",
   "execution_count": 134,
   "id": "0a3ec0d8-d516-4d7e-aec0-575e8e2862c6",
   "metadata": {},
   "outputs": [],
   "source": [
    "for row in t:\n",
    "    for item in row:\n",
    "        total += item\n",
    "        items += 1\n"
   ]
  },
  {
   "cell_type": "code",
   "execution_count": 135,
   "id": "f6eaabbe-26bb-4a8d-a426-ed0ae3e7fe4f",
   "metadata": {},
   "outputs": [
    {
     "data": {
      "text/plain": [
       "10.166666666666666"
      ]
     },
     "execution_count": 135,
     "metadata": {},
     "output_type": "execute_result"
    }
   ],
   "source": [
    "total/items"
   ]
  },
  {
   "cell_type": "code",
   "execution_count": 136,
   "id": "77be91a1-f2f2-4626-97b5-bf0ff6082f68",
   "metadata": {},
   "outputs": [],
   "source": [
    "total = 0"
   ]
  },
  {
   "cell_type": "code",
   "execution_count": 137,
   "id": "32d99dcb-45ff-4660-a655-52d987c147f8",
   "metadata": {},
   "outputs": [],
   "source": [
    "items = 0"
   ]
  },
  {
   "cell_type": "code",
   "execution_count": 138,
   "id": "27d63449-9d12-471c-84cb-293439b0581a",
   "metadata": {},
   "outputs": [],
   "source": [
    "for row in t:\n",
    "    total += sum(row)\n",
    "    items += len(row)"
   ]
  },
  {
   "cell_type": "code",
   "execution_count": 139,
   "id": "7a0bf846-4d48-4a31-96b7-c4f57f34d3ca",
   "metadata": {},
   "outputs": [
    {
     "data": {
      "text/plain": [
       "10.166666666666666"
      ]
     },
     "execution_count": 139,
     "metadata": {},
     "output_type": "execute_result"
    }
   ],
   "source": [
    "total/items"
   ]
  },
  {
   "cell_type": "code",
   "execution_count": null,
   "id": "7e8b9cb7-3e49-4616-b2b1-04112be6eb55",
   "metadata": {},
   "outputs": [],
   "source": []
  }
 ],
 "metadata": {
  "kernelspec": {
   "display_name": "Python 3 (ipykernel)",
   "language": "python",
   "name": "python3"
  },
  "language_info": {
   "codemirror_mode": {
    "name": "ipython",
    "version": 3
   },
   "file_extension": ".py",
   "mimetype": "text/x-python",
   "name": "python",
   "nbconvert_exporter": "python",
   "pygments_lexer": "ipython3",
   "version": "3.9.7"
  }
 },
 "nbformat": 4,
 "nbformat_minor": 5
}
